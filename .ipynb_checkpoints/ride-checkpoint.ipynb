{
 "cells": [
  {
   "cell_type": "code",
   "execution_count": 112,
   "metadata": {},
   "outputs": [
    {
     "ename": "TypeError",
     "evalue": "not enough arguments for format string",
     "output_type": "error",
     "traceback": [
      "\u001b[0;31m---------------------------------------------------------------------------\u001b[0m",
      "\u001b[0;31mTypeError\u001b[0m                                 Traceback (most recent call last)",
      "\u001b[0;32m<ipython-input-112-11f09bb2f912>\u001b[0m in \u001b[0;36m<module>\u001b[0;34m()\u001b[0m\n\u001b[0;32m----> 1\u001b[0;31m \u001b[0;34m\"%d %d \"\u001b[0m \u001b[0;34m%\u001b[0m \u001b[0;36m5\u001b[0m\u001b[0;34m,\u001b[0m\u001b[0;36m6\u001b[0m\u001b[0;34m\u001b[0m\u001b[0m\n\u001b[0m",
      "\u001b[0;31mTypeError\u001b[0m: not enough arguments for format string"
     ]
    }
   ],
   "source": [
    "\"%d %d \" % 5,6"
   ]
  },
  {
   "cell_type": "code",
   "execution_count": 120,
   "metadata": {},
   "outputs": [],
   "source": [
    "\"\"\"\n",
    "ID: xggc1\n",
    "LANG: PYTHON3\n",
    "PROG: ride \n",
    "\"\"\"\n",
    "def getNumber(str):\n",
    "    str = str.encode()\n",
    "    result = 1\n",
    "    for c in str:\n",
    "        result *= c-64\n",
    "    return result%47\n",
    "\n",
    "fin = open ('ride.in', 'r')\n",
    "fout = open ('ride.out', 'w')\n",
    "\n",
    "cometName = fin.readline().strip()\n",
    "groupName = fin.readline().strip()\n",
    "\n",
    "cometNumber = getNumber(cometName)\n",
    "groupNumber = getNumber(groupName)\n",
    "\n",
    "if(cometNumber == groupNumber):\n",
    "    fout.write (\"GO\\n\")    \n",
    "else:\n",
    "    fout.write (\"STAY\\n\")    \n",
    "fout.close()\n",
    "\n"
   ]
  }
 ],
 "metadata": {
  "kernelspec": {
   "display_name": "Python 3",
   "language": "python",
   "name": "python3"
  },
  "language_info": {
   "codemirror_mode": {
    "name": "ipython",
    "version": 3
   },
   "file_extension": ".py",
   "mimetype": "text/x-python",
   "name": "python",
   "nbconvert_exporter": "python",
   "pygments_lexer": "ipython3",
   "version": "3.6.3"
  }
 },
 "nbformat": 4,
 "nbformat_minor": 2
}
