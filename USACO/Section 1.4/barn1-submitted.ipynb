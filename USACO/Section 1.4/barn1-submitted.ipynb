{
 "cells": [
  {
   "cell_type": "code",
   "execution_count": 56,
   "metadata": {
    "scrolled": true
   },
   "outputs": [],
   "source": [
    "\"\"\"\n",
    "ID: xggc1\n",
    "LANG: PYTHON3\n",
    "PROG: barn1\n",
    "\"\"\"\n",
    "fin = open('barn1.in','r')\n",
    "m, s, c = map(int,fin.readline().strip().split())\n",
    "if m>=c:\n",
    "    total=c\n",
    "else:\n",
    "    barnList = list(filter(None,fin.read().split('\\n')))\n",
    "    barnList = [int(n) for n in barnList]\n",
    "    barnList.sort()\n",
    "    n=barnList[0]-1\n",
    "    n+=s-barnList[-1]\n",
    "    \n",
    "    bList=[]\n",
    "\n",
    "    for i in range(1,c):\n",
    "        if barnList[i]-barnList[i-1]!=1:\n",
    "            bList.append(barnList[i]-barnList[i-1]-1)\n",
    "            \n",
    "    bList.sort()\n",
    "    bList.reverse()\n",
    "    i=0\n",
    "    for i in range(m-1):\n",
    "        n+=bList[i]    \n",
    "    total=s-n\n",
    "    \n",
    "with open('barn1.out','w') as fout:\n",
    "    fout.write(f\"{total}\\n\")"
   ]
  }
 ],
 "metadata": {
  "kernelspec": {
   "display_name": "Python 3",
   "language": "python",
   "name": "python3"
  },
  "language_info": {
   "codemirror_mode": {
    "name": "ipython",
    "version": 3
   },
   "file_extension": ".py",
   "mimetype": "text/x-python",
   "name": "python",
   "nbconvert_exporter": "python",
   "pygments_lexer": "ipython3",
   "version": "3.6.3"
  }
 },
 "nbformat": 4,
 "nbformat_minor": 2
}
