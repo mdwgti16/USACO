{
 "cells": [
  {
   "cell_type": "code",
   "execution_count": 1,
   "metadata": {
    "scrolled": true
   },
   "outputs": [],
   "source": [
    "\"\"\"\n",
    "ID: xggc1\n",
    "LANG: PYTHON3\n",
    "PROG: combo\n",
    "\"\"\"\n",
    "fin = open('combo.in','r')\n",
    "N = int(fin.readline().strip())\n",
    "\n",
    "total=0\n",
    "f1,f2,f3= map(int, fin.readline().strip().split(\" \"))\n",
    "m1,m2,m3 = map(int, fin.readline().strip().split(\" \"))\n",
    "\n",
    "def close(a,b):\n",
    "    if abs(a-b) <= 2 :return True;\n",
    "    if abs(a-b) >= N-2 : return True;\n",
    "    return False;\n",
    "    \n",
    "def close_enough(n1,n2,n3,c1,c2,c3):\n",
    "    return close(n1,c1) and close(n2,c2) and close(n3,c3);\n",
    "\n",
    "for n1 in range(1,N+1):\n",
    "    for n2 in range(1,N+1):\n",
    "        for n3 in range(1,N+1):\n",
    "            if close_enough(n1,n2,n3,f1,f2,f3) or\\\n",
    "                 close_enough(n1,n2,n3,m1,m2,m3):\n",
    "                total+=1\n",
    "           \n",
    "with open('combo.out','w') as fout:\n",
    "    fout.write(f\"{total}\\n\")"
   ]
  }
 ],
 "metadata": {
  "kernelspec": {
   "display_name": "Python 3",
   "language": "python",
   "name": "python3"
  },
  "language_info": {
   "codemirror_mode": {
    "name": "ipython",
    "version": 3
   },
   "file_extension": ".py",
   "mimetype": "text/x-python",
   "name": "python",
   "nbconvert_exporter": "python",
   "pygments_lexer": "ipython3",
   "version": "3.6.3"
  }
 },
 "nbformat": 4,
 "nbformat_minor": 2
}
