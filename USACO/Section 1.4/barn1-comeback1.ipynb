{
 "cells": [
  {
   "cell_type": "code",
   "execution_count": 2,
   "metadata": {},
   "outputs": [],
   "source": [
    "\"\"\"\n",
    "ID: xggc1\n",
    "LANG: PYTHON3\n",
    "PROG: barn1\n",
    "\"\"\"\n",
    "fin = open('barn1.in','r')\n",
    "m, s, c = map(int,fin.readline().strip().split())\n",
    "barnList = fin.read().split('\\n')\n",
    "barnList = list(filter(None,barnList))\n",
    "barnList = [int(n) for n in barnList]\n",
    "barnList.sort()\n",
    "start=end = barnList[0]\n",
    "\n",
    "def block(start,end, i, cnt,total):\n",
    "    \n",
    "    if i == len(barnList)-1 or cnt==m-1:\n",
    "        if cnt < m-1:\n",
    "            total+=end-start+1\n",
    "            start=barnList[i]\n",
    "        return total+barnList[len(barnList)-1]-start+1\n",
    "    \n",
    "    if barnList[i]-end <= barnList[i+1]-barnList[i]:\n",
    "        total = block(start,barnList[i], i+1,cnt,total)\n",
    "    else:\n",
    "        blocked = block(barnList[i],barnList[i], i+1,cnt+1,total+end-start+1)\n",
    "        nBlock = block(start,barnList[i], i+1,cnt,total)\n",
    "        total = nBlock if nBlock<=blocked else blocked\n",
    "    return total\n",
    "\n",
    "\n",
    "        \n",
    "if m>=c:\n",
    "    total=c\n",
    "else:\n",
    "    total=block(start,end,1,0,0)\n",
    "with open('barn1.out','w') as fout:\n",
    "    fout.write(f\"{total}\\n\")"
   ]
  }
 ],
 "metadata": {
  "kernelspec": {
   "display_name": "Python 3",
   "language": "python",
   "name": "python3"
  },
  "language_info": {
   "codemirror_mode": {
    "name": "ipython",
    "version": 3
   },
   "file_extension": ".py",
   "mimetype": "text/x-python",
   "name": "python",
   "nbconvert_exporter": "python",
   "pygments_lexer": "ipython3",
   "version": "3.6.3"
  }
 },
 "nbformat": 4,
 "nbformat_minor": 2
}
