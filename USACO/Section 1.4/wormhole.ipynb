{
 "cells": [
  {
   "cell_type": "code",
   "execution_count": 76,
   "metadata": {
    "scrolled": true
   },
   "outputs": [],
   "source": [
    "\"\"\"\n",
    "ID: xggc1\n",
    "LANG: PYTHON3\n",
    "PROG: wormhole\n",
    "\"\"\"\n",
    "def getKey(s):\n",
    "    n1,n2=map(int,s.strip().split(\" \"))\n",
    "    return n2\n",
    "fin = open('wormhole.in','r')\n",
    "N = int(fin.readline().strip())\n",
    "\n",
    "wh= [l.strip() for l in fin.readlines()]\n",
    "\n",
    "# wh.sort(key=getKey)\n",
    "# wh.reverse()\n",
    "total=0\n",
    "twoDict={}\n",
    "for p in wh:\n",
    "    if p:\n",
    "        x,y=map(int, p.strip().split(\" \"))\n",
    "\n",
    "        twoDict[y]=0\n",
    "        cnt=0\n",
    "        for w in wh:\n",
    "            if w.strip().endswith(f\"{y}\"):\n",
    "                cnt+=1\n",
    "            if cnt!=1:\n",
    "                isOne=False\n",
    "        if cnt>1:\n",
    "            twoDict[y]+=cnt\n",
    "\n",
    "for k,v in twoDict.items():\n",
    "    if v>1:\n",
    "        t=0\n",
    "        for i in range(v-1,0,-1):\n",
    "            t+=i\n",
    "        n=N\n",
    "        temp=t\n",
    "        if v%2==1:\n",
    "            n+=1\n",
    "        while n-v>4:\n",
    "            temp*=n-v-1\n",
    "            n-=2\n",
    "        temp*=3\n",
    "        total+=temp\n",
    "\n",
    "with open('wormhole.out','w') as fout:\n",
    "    fout.write(f\"{total}\\n\")"
   ]
  }
 ],
 "metadata": {
  "kernelspec": {
   "display_name": "Python 3",
   "language": "python",
   "name": "python3"
  },
  "language_info": {
   "codemirror_mode": {
    "name": "ipython",
    "version": 3
   },
   "file_extension": ".py",
   "mimetype": "text/x-python",
   "name": "python",
   "nbconvert_exporter": "python",
   "pygments_lexer": "ipython3",
   "version": "3.6.3"
  }
 },
 "nbformat": 4,
 "nbformat_minor": 2
}
