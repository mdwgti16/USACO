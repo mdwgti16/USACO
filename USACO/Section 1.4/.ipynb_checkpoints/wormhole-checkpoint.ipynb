{
 "cells": [
  {
   "cell_type": "code",
   "execution_count": 163,
   "metadata": {
    "scrolled": true
   },
   "outputs": [
    {
     "data": {
      "text/plain": [
       "6"
      ]
     },
     "execution_count": 163,
     "metadata": {},
     "output_type": "execute_result"
    }
   ],
   "source": [
    "\"\"\"\n",
    "ID: xggc1\n",
    "LANG: PYTHON3\n",
    "PROG: wormhole\n",
    "\"\"\"\n",
    "def getKey(s):\n",
    "    n1,n2=map(int,s.strip().split(\" \"))\n",
    "    return n2\n",
    "fin = open('wormhole.in','r')\n",
    "N = int(fin.readline().strip())\n",
    "\n",
    "# wh= [ l for l in fin.read().strip().split(\"\\n\")]\n",
    "wh= [l for l in fin.read().strip().split(\"\\n\")]\n",
    "n=9\n",
    "c=0\n",
    "\n",
    "# mc= [int(e) for e in fin.readline().strip().split(\" \")]\n",
    "\n",
    "# wh.sort(key=getKey)\n",
    "# wh.reverse()\n",
    "n+=1\n",
    "total=0\n",
    "isOne=True\n",
    "isFirst=True\n",
    "twoDict={}\n",
    "n+=5\n",
    "for p in wh:\n",
    "    x,y=map(int, p.strip().split(\" \"))\n",
    "    if y==n:\n",
    "        c+=1\n",
    "        if c==2:\n",
    "            n+=3\n",
    "            total=n//3\n",
    "            isOne=False\n",
    "            break\n",
    "    twoDict[y]=0\n",
    "    cnt=0\n",
    "    for w in wh:\n",
    "        if w.strip().endswith(f\"{y}\"):\n",
    "            cnt+=1\n",
    "        if cnt!=1:\n",
    "            isOne=False\n",
    "    if cnt>1:\n",
    "        twoDict[y]+=cnt\n",
    "    \n",
    "# if isOne :\n",
    "#     total=0\n",
    "# else:\n",
    "#     for k,v in twoDict.items():\n",
    "#         if v>1:\n",
    "#             total+=v//2\n",
    "\n",
    "with open('wormhole.out','w') as fout:\n",
    "    fout.write(f\"{total}\\n\")"
   ]
  }
 ],
 "metadata": {
  "kernelspec": {
   "display_name": "Python 3",
   "language": "python",
   "name": "python3"
  },
  "language_info": {
   "codemirror_mode": {
    "name": "ipython",
    "version": 3
   },
   "file_extension": ".py",
   "mimetype": "text/x-python",
   "name": "python",
   "nbconvert_exporter": "python",
   "pygments_lexer": "ipython3",
   "version": "3.6.3"
  }
 },
 "nbformat": 4,
 "nbformat_minor": 2
}
