{
 "cells": [
  {
   "cell_type": "code",
   "execution_count": 11,
   "metadata": {},
   "outputs": [],
   "source": [
    "\"\"\"\n",
    "ID: xggc1\n",
    "LANG: PYTHON3\n",
    "PROG: milk\n",
    "\"\"\"\n",
    "def sortKeyGen(line):\n",
    "    if line:\n",
    "        price,amount=map(int,line.strip().split(\" \"))\n",
    "        return price\n",
    "fin = open('milk.in','r')\n",
    "milk, n = map(int,fin.readline().strip().split())\n",
    "unitList = fin.read().split('\\n')\n",
    "unitList = list(filter(None, unitList))\n",
    "\n",
    "unitList.sort(key=sortKeyGen)\n",
    "\n",
    "pay=0\n",
    "for unit in unitList:\n",
    "    if unit:\n",
    "        price,amount=map(int,unit.strip().split(\" \"))\n",
    "        if milk==0:\n",
    "            break\n",
    "        if milk>=amount:\n",
    "            milk-=amount\n",
    "            pay+=price*amount\n",
    "        else:\n",
    "            pay+=price*milk\n",
    "            milk=0\n",
    "        \n",
    "with open('milk.out','w') as fout:\n",
    "    fout.write(f\"{pay}\\n\")"
   ]
  }
 ],
 "metadata": {
  "kernelspec": {
   "display_name": "Python 3",
   "language": "python",
   "name": "python3"
  },
  "language_info": {
   "codemirror_mode": {
    "name": "ipython",
    "version": 3
   },
   "file_extension": ".py",
   "mimetype": "text/x-python",
   "name": "python",
   "nbconvert_exporter": "python",
   "pygments_lexer": "ipython3",
   "version": "3.6.3"
  }
 },
 "nbformat": 4,
 "nbformat_minor": 2
}
