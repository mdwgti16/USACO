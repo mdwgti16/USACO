{
 "cells": [
  {
   "cell_type": "code",
   "execution_count": 178,
   "metadata": {
    "scrolled": true
   },
   "outputs": [],
   "source": [
    "\"\"\"\n",
    "ID: xggc1\n",
    "LANG: PYTHON3\n",
    "PROG: barn1\n",
    "\"\"\"\n",
    "fin = open('barn1.in','r')\n",
    "m, s, c = map(int,fin.readline().strip().split())\n",
    "if m>=c:\n",
    "    total=c\n",
    "else:\n",
    "    barnList = list(filter(None,fin.read().split('\\n')))\n",
    "    barnList = [int(n) for n in barnList]\n",
    "    barnList.sort()\n",
    "    start=end = barnList[0]\n",
    "\n",
    "    bList=[]\n",
    "    i=0\n",
    "    for i in range(1,c-1):\n",
    "        if barnList[i]-end==1:\n",
    "            end=barnList[i]\n",
    "        else:\n",
    "            bList.append(end-start+1)\n",
    "\n",
    "            bList.append(barnList[i]-end)\n",
    "            start=end=barnList[i]\n",
    "    else:\n",
    "        bList.append(end-start+1)\n",
    "        bList.append(barnList[i+1]-end)\n",
    "        bList.append(1)\n",
    "\n",
    "    while True:    \n",
    "        min=9999\n",
    "        t=0\n",
    "\n",
    "        for i in range(2,len(bList),2):\n",
    "            result=0\n",
    "            for j in range(0,len(bList),2):\n",
    "                if 0<i-j<=2:\n",
    "                    continue\n",
    "                elif i==j:\n",
    "                    result+=bList[i-2]+bList[i-1]+bList[i]-1\n",
    "                else:\n",
    "                    result+=bList[j]\n",
    "\n",
    "            if result<=min:\n",
    "                min=result\n",
    "                t=i\n",
    "        \n",
    "        tempList=[]\n",
    "        for j in range(len(bList)):\n",
    "                if 0<t-j<=2:\n",
    "                    continue\n",
    "                elif t==j:\n",
    "                    tempList.append(bList[t-2]+bList[t-1]+bList[t]-1)\n",
    "                else:\n",
    "                    tempList.append(bList[j])\n",
    "        bList=tempList        \n",
    "        \n",
    "        if int((len(bList)+1)/2)==m:\n",
    "            total=min\n",
    "            break\n",
    "            \n",
    "with open('barn1.out','w') as fout:\n",
    "    fout.write(f\"{total}\\n\")"
   ]
  }
 ],
 "metadata": {
  "kernelspec": {
   "display_name": "Python 3",
   "language": "python",
   "name": "python3"
  },
  "language_info": {
   "codemirror_mode": {
    "name": "ipython",
    "version": 3
   },
   "file_extension": ".py",
   "mimetype": "text/x-python",
   "name": "python",
   "nbconvert_exporter": "python",
   "pygments_lexer": "ipython3",
   "version": "3.6.3"
  }
 },
 "nbformat": 4,
 "nbformat_minor": 2
}
