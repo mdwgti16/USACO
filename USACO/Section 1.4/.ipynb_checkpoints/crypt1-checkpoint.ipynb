{
 "cells": [
  {
   "cell_type": "code",
   "execution_count": 228,
   "metadata": {
    "scrolled": true
   },
   "outputs": [],
   "source": [
    "\"\"\"\n",
    "ID: xggc1\n",
    "LANG: PYTHON3\n",
    "PROG: crypt1\n",
    "\"\"\"\n",
    "fin = open('crypt1.in','r')\n",
    "n = int(fin.readline().strip())\n",
    "nList= [int(e) for e in fin.readline().strip().split(\" \")]\n",
    "\n",
    "def isMember(p):\n",
    "    isMember=True\n",
    "    for e in p:                                \n",
    "        if nList.count(int(e))==0:\n",
    "            isMember=False\n",
    "            break\n",
    "    return isMember\n",
    "\n",
    "cnt=0\n",
    "for a in nList:\n",
    "    for b in nList:\n",
    "        for c in nList:\n",
    "            for d in nList:\n",
    "                for e in nList:\n",
    "                    isValid=True\n",
    "                    pList=[]\n",
    "                    abc=a*100+b*10+c\n",
    "                    \n",
    "                    for i,de in enumerate([e,d]):\n",
    "                        p=str(abc*de)\n",
    "                        if len(p)>3:\n",
    "                            isValid=False\n",
    "                            break\n",
    "                        else :\n",
    "                            if not isMember(p):\n",
    "                                isValid=False\n",
    "                                break    \n",
    "                        if isValid:\n",
    "                            pList.append(p)\n",
    "                        else:\n",
    "                            break\n",
    "                    if not isValid:\n",
    "                        continue\n",
    "                    result=int(\"0\"+pList[0])+int(pList[1]+\"0\")\n",
    "                    if isMember(str(result)):\n",
    "                        cnt+=1\n",
    "                        \n",
    "with open('crypt1.out','w') as fout:\n",
    "    fout.write(f\"{cnt}\\n\")"
   ]
  }
 ],
 "metadata": {
  "kernelspec": {
   "display_name": "Python 3",
   "language": "python",
   "name": "python3"
  },
  "language_info": {
   "codemirror_mode": {
    "name": "ipython",
    "version": 3
   },
   "file_extension": ".py",
   "mimetype": "text/x-python",
   "name": "python",
   "nbconvert_exporter": "python",
   "pygments_lexer": "ipython3",
   "version": "3.6.3"
  }
 },
 "nbformat": 4,
 "nbformat_minor": 2
}
