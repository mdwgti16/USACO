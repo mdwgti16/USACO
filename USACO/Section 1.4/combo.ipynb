{
 "cells": [
  {
   "cell_type": "code",
   "execution_count": 6,
   "metadata": {
    "scrolled": false
   },
   "outputs": [],
   "source": [
    "\"\"\"\n",
    "ID: xggc1\n",
    "LANG: PYTHON3\n",
    "PROG: combo\n",
    "\"\"\"\n",
    "fin = open('combo.in','r')\n",
    "N = int(fin.readline().strip())\n",
    "if N==1:\n",
    "    num=1\n",
    "else:\n",
    "    fc= [int(e) for e in fin.readline().strip().split(\" \")]\n",
    "    mc= [int(e) for e in fin.readline().strip().split(\" \")]\n",
    "    def getRange(n):\n",
    "        r=[]\n",
    "        for e in list(range(n-2+N,n+2+N+1)):\n",
    "            if e%N==0 :\n",
    "                r.append(N)                    \n",
    "            else :\n",
    "                r.append(e%N)\n",
    "        if r[0]==r[-1]:\n",
    "            del r[-1]\n",
    "        return r\n",
    "\n",
    "    result=[[],[]]\n",
    "\n",
    "    for i,c in enumerate(zip(fc,mc)):\n",
    "        fc[i]=getRange(c[0])\n",
    "        mc[i]=getRange(c[1])\n",
    "\n",
    "    for f1,c1 in zip(fc[0],mc[0]):\n",
    "        for f2,c2 in zip(fc[1],mc[1]):\n",
    "            for f3,c3 in zip(fc[2],mc[2]):\n",
    "                result[0].append(f\"{f1}{f2}{f3}\")\n",
    "                result[1].append(f\"{c1}{c2}{c3}\")\n",
    "    num=len(list(set(result[0]+result[1])))\n",
    "                            \n",
    "with open('combo.out','w') as fout:\n",
    "    fout.write(f\"{num}\\n\")"
   ]
  }
 ],
 "metadata": {
  "kernelspec": {
   "display_name": "Python 3",
   "language": "python",
   "name": "python3"
  },
  "language_info": {
   "codemirror_mode": {
    "name": "ipython",
    "version": 3
   },
   "file_extension": ".py",
   "mimetype": "text/x-python",
   "name": "python",
   "nbconvert_exporter": "python",
   "pygments_lexer": "ipython3",
   "version": "3.6.3"
  }
 },
 "nbformat": 4,
 "nbformat_minor": 2
}
