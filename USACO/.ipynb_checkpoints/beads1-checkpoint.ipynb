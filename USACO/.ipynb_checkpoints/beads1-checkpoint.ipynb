{
 "cells": [
  {
   "cell_type": "code",
   "execution_count": 63,
   "metadata": {},
   "outputs": [],
   "source": [
    "\"\"\"\n",
    "ID: xggc1\n",
    "LANG: PYTHON3\n",
    "PROG: beads\n",
    "\"\"\"\n",
    "fin = open('beads.in','r')\n",
    "bNum = int(fin.readline())\n",
    "beads = fin.readline().strip()\n",
    "\n",
    "pre = ppre = ''\n",
    "i=0\n",
    "cnt = wcnt = 0\n",
    "bMax = left = 0\n",
    "isSecond=False\n",
    "while True:\n",
    "    \n",
    "    if beads[i] != pre:\n",
    "        if beads[i] == 'w':\n",
    "            wcnt=1\n",
    "        else:\n",
    "            if beads[i] == ppre:\n",
    "                cnt=cnt+wcnt+1\n",
    "                wcnt=0\n",
    "            else:\n",
    "                ppre=beads[i]\n",
    "                if left+cnt+wcnt>bMax:\n",
    "                    bMax=left+cnt+wcnt\n",
    "                if isSecond:\n",
    "                    break\n",
    "                    \n",
    "                left=cnt\n",
    "                \n",
    "                if pre == 'w':\n",
    "                    cnt=wcnt+1\n",
    "                    wcnt=0\n",
    "                else:\n",
    "                    cnt=1\n",
    "            \n",
    "        pre=beads[i]\n",
    "    else:           \n",
    "        if beads[i] == 'w':\n",
    "            wcnt+=1\n",
    "        else:\n",
    "            cnt+=1\n",
    "    i+=1   \n",
    "    if i==bNum:\n",
    "        if (cnt+wcnt) == (bNum*2):\n",
    "            bMax=bNum\n",
    "            break\n",
    "        i=0\n",
    "        isSecond=True\n",
    "with open('beads.out','w') as fout:\n",
    "    fout.write(f\"{bMax}\\n\")"
   ]
  }
 ],
 "metadata": {
  "kernelspec": {
   "display_name": "Python 3",
   "language": "python",
   "name": "python3"
  },
  "language_info": {
   "codemirror_mode": {
    "name": "ipython",
    "version": 3
   },
   "file_extension": ".py",
   "mimetype": "text/x-python",
   "name": "python",
   "nbconvert_exporter": "python",
   "pygments_lexer": "ipython3",
   "version": "3.6.3"
  }
 },
 "nbformat": 4,
 "nbformat_minor": 2
}
