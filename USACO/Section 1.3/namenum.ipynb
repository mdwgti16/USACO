{
 "cells": [
  {
   "cell_type": "code",
   "execution_count": 193,
   "metadata": {},
   "outputs": [
    {
     "name": "stdout",
     "output_type": "stream",
     "text": [
      "['NONE']\n"
     ]
    },
    {
     "ename": "TypeError",
     "evalue": "'int' object is not iterable",
     "output_type": "error",
     "traceback": [
      "\u001b[0;31m---------------------------------------------------------------------------\u001b[0m",
      "\u001b[0;31mTypeError\u001b[0m                                 Traceback (most recent call last)",
      "\u001b[0;32m<ipython-input-193-e1d916ebe864>\u001b[0m in \u001b[0;36m<module>\u001b[0;34m()\u001b[0m\n\u001b[1;32m     31\u001b[0m     \u001b[0mbName\u001b[0m\u001b[0;34m.\u001b[0m\u001b[0mappend\u001b[0m\u001b[0;34m(\u001b[0m\u001b[0;34m'NONE'\u001b[0m\u001b[0;34m)\u001b[0m\u001b[0;34m\u001b[0m\u001b[0m\n\u001b[1;32m     32\u001b[0m \u001b[0mprint\u001b[0m\u001b[0;34m(\u001b[0m\u001b[0mbName\u001b[0m\u001b[0;34m)\u001b[0m\u001b[0;34m\u001b[0m\u001b[0m\n\u001b[0;32m---> 33\u001b[0;31m \u001b[0;32mfor\u001b[0m \u001b[0mname\u001b[0m \u001b[0;32min\u001b[0m \u001b[0mlen\u001b[0m\u001b[0;34m(\u001b[0m\u001b[0mbName\u001b[0m\u001b[0;34m)\u001b[0m\u001b[0;34m:\u001b[0m\u001b[0;34m\u001b[0m\u001b[0m\n\u001b[0m\u001b[1;32m     34\u001b[0m     \u001b[0mprint\u001b[0m\u001b[0;34m(\u001b[0m\u001b[0mname\u001b[0m\u001b[0;34m)\u001b[0m\u001b[0;34m\u001b[0m\u001b[0m\n\u001b[1;32m     35\u001b[0m \u001b[0;31m# with open('namenum.out','w') as f:\u001b[0m\u001b[0;34m\u001b[0m\u001b[0;34m\u001b[0m\u001b[0m\n",
      "\u001b[0;31mTypeError\u001b[0m: 'int' object is not iterable"
     ]
    }
   ],
   "source": [
    "\"\"\"\n",
    "ID: xggc1\n",
    "LANG: PYTHON3\n",
    "PROG: namenum\n",
    "\"\"\"\n",
    "with open('namenum.in','r') as f:\n",
    "    numbers = f.readline().strip()\n",
    "with open('dict.txt','r') as f:\n",
    "    cDict = f.read().strip().split('\\n')\n",
    "                                  \n",
    "keyMap = {2: 'ABC', 5: 'JKL', 8: 'TUV',\n",
    "          3: 'DEF', 6: 'MNO', 9: 'WXY',\n",
    "          4: 'GHI', 7: 'PRS'}\n",
    "bName=[]\n",
    "def keyToBrandName(name ,numbers,i):\n",
    "    if i == len(str(numbers)):\n",
    "        for dName in cDict:\n",
    "            if name == dName:\n",
    "                bName.append(name)\n",
    "        return\n",
    "                \n",
    "    for k in keyMap[int(numbers[i])]:\n",
    "        temp = name+k\n",
    "        for dName in cDict:\n",
    "            if dName.startswith(temp):\n",
    "                keyToBrandName(temp, numbers, i+1)\n",
    "                break\n",
    "\n",
    "keyToBrandName(\"\", numbers, 0)\n",
    "if not bName:\n",
    "    bName.append('NONE')\n",
    "print(bName)\n",
    "for name in len(bName):\n",
    "    print(name)\n",
    "# with open('namenum.out','w') as f:\n",
    "#     for name in bName:\n",
    "#         f.write(f'{name}\\n')"
   ]
  }
 ],
 "metadata": {
  "kernelspec": {
   "display_name": "Python 3",
   "language": "python",
   "name": "python3"
  },
  "language_info": {
   "codemirror_mode": {
    "name": "ipython",
    "version": 3
   },
   "file_extension": ".py",
   "mimetype": "text/x-python",
   "name": "python",
   "nbconvert_exporter": "python",
   "pygments_lexer": "ipython3",
   "version": "3.6.3"
  }
 },
 "nbformat": 4,
 "nbformat_minor": 2
}
