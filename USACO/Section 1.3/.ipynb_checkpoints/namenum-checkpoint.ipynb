{
 "cells": [
  {
   "cell_type": "code",
   "execution_count": 185,
   "metadata": {},
   "outputs": [
    {
     "name": "stdout",
     "output_type": "stream",
     "text": [
      "['ABE', 'ACE']\n"
     ]
    }
   ],
   "source": [
    "\"\"\"\n",
    "ID: xggc1\n",
    "LANG: PYTHON3\n",
    "PROG: namenum\n",
    "\"\"\"\n",
    "with open('namenum.in','r') as f:\n",
    "    numbers = f.readline().strip()\n",
    "with open('dict.txt','r') as f:\n",
    "    cDict = f.read().strip().split('\\n')\n",
    "                                  \n",
    "keyMap = {2: 'ABC', 5: 'JKL', 8: 'TUV',\n",
    "          3: 'DEF', 6: 'MNO', 9: 'WXY',\n",
    "          4: 'GHI', 7: 'PRS'}\n",
    "bName=[]\n",
    "def keyToBrandName(name ,numbers,i):\n",
    "    if i == len(str(numbers)):\n",
    "        for dName in cDict:\n",
    "            if name == dName:\n",
    "                bName.append(name)\n",
    "        return\n",
    "                \n",
    "    for k in keyMap[int(numbers[i])]:\n",
    "        temp = name+k\n",
    "        for dName in cDict:\n",
    "            if dName.startswith(temp):\n",
    "                keyToBrandName(temp, numbers, i+1)\n",
    "                break\n",
    "\n",
    "keyToBrandName(\"\", numbers, 0)\n",
    "if not bName:\n",
    "    bName='NONE'\n",
    "with open('namenum.out','w') as f:\n",
    "    for name in bName:\n",
    "        f.write(f'{name}\\n')"
   ]
  }
 ],
 "metadata": {
  "kernelspec": {
   "display_name": "Python 3",
   "language": "python",
   "name": "python3"
  },
  "language_info": {
   "codemirror_mode": {
    "name": "ipython",
    "version": 3
   },
   "file_extension": ".py",
   "mimetype": "text/x-python",
   "name": "python",
   "nbconvert_exporter": "python",
   "pygments_lexer": "ipython3",
   "version": "3.6.3"
  }
 },
 "nbformat": 4,
 "nbformat_minor": 2
}
