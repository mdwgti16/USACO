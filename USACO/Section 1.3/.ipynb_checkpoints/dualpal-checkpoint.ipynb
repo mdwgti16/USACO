{
 "cells": [
  {
   "cell_type": "code",
   "execution_count": 14,
   "metadata": {},
   "outputs": [],
   "source": [
    "\"\"\"\n",
    "ID: xggc1\n",
    "LANG: PYTHON3\n",
    "PROG: dualpal\n",
    "\"\"\"\n",
    "nList=[n for n in range(10)]\n",
    "nList.extend([chr(n) for n in range(ord('A'),ord('A')+15)])\n",
    "\n",
    "def convert(num,base):\n",
    "    t=[]\n",
    "    while True:\n",
    "        if num>=base:\n",
    "            q,r=divmod(num,base)\n",
    "            num=q\n",
    "            t.append(nList[r])\n",
    "        else:\n",
    "            t.append(nList[num])\n",
    "            break\n",
    "    return ''.join(str(e) for e in t)[::-1]\n",
    "\n",
    "with open('dualpal.in','r') as f:\n",
    "    n,s = map(int,f.readline().strip().split(\" \"))\n",
    "    \n",
    "cnt=0\n",
    "l=[]\n",
    "\n",
    "while len(nList)<n:\n",
    "    for i in range(2,16):\n",
    "        t = convert(s,i)\n",
    "        if s == s[::-1] :\n",
    "            l.append(s)\n",
    "            break\n",
    "    s+=1\n",
    "    \n",
    "    \n",
    "with open('dualpal.out','w') as f:\n",
    "    for n in l:\n",
    "        f.write(f'{n}\\n')"
   ]
  }
 ],
 "metadata": {
  "kernelspec": {
   "display_name": "Python 3",
   "language": "python",
   "name": "python3"
  },
  "language_info": {
   "codemirror_mode": {
    "name": "ipython",
    "version": 3
   },
   "file_extension": ".py",
   "mimetype": "text/x-python",
   "name": "python",
   "nbconvert_exporter": "python",
   "pygments_lexer": "ipython3",
   "version": "3.6.3"
  }
 },
 "nbformat": 4,
 "nbformat_minor": 2
}
