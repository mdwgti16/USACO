{
 "cells": [
  {
   "cell_type": "code",
   "execution_count": 14,
   "metadata": {},
   "outputs": [
    {
     "data": {
      "text/plain": [
       "('r', 'w')"
      ]
     },
     "execution_count": 14,
     "metadata": {},
     "output_type": "execute_result"
    }
   ],
   "source": [
    "\"\"\"\n",
    "ID: xggc1\n",
    "LANG: PYTHON3\n",
    "PROG: beads\n",
    "\"\"\"\n",
    "fin = open('beads.in','r')\n",
    "bNum = int(fin.readline())\n",
    "beads = fin.readline().strip()\n",
    "beads+=beads\n",
    "\n",
    "start = bNum\n",
    "pre = beads[0]\n",
    "\n",
    "ppre=''\n",
    "beadList = []\n",
    "right=0\n",
    "left=0\n",
    "\n",
    "wn=0\n",
    "\n",
    "def getEdge(c,beads,i,num):\n",
    "    if(c==beads[i]):\n",
    "        return edge(c,beads,i+num,num)\n",
    "    else:\n",
    "        return i\n",
    "\n",
    "ni=edge('w',beads,start,1)\n",
    "bi=edge('w',beads,start,-1)\n",
    "beads[bi], beads[ni]\n",
    "# ni,bi\n",
    "\n",
    "# while True:\n",
    "#     if(pre==beads[i]):\n",
    "#         if(beads[i]=='w'):\n",
    "#             wn+=1\n",
    "#         else:\n",
    "#             temp+=pre\n",
    "#     else:\n",
    "#         if(pre!='w' and beads[i]=='w'):\n",
    "#             ppre=pre\n",
    "#             pre=beads[i]\n",
    "#             wn=1\n",
    "                \n",
    "#         elif(pre=='w' and beads[i]!='w'):\n",
    "#             pre=beads[i]\n",
    "#             if(ppre==beads[i]):\n",
    "#                 temp+='w'*wn + pre\n",
    "#                 wn=0\n",
    "#             else:\n",
    "#                 if(temp!=''):\n",
    "#                     temp+='w'*wn\n",
    "#                     beadList.append(temp)    \n",
    "#                 temp='w'*wn + pre\n",
    "#                 ppre=pre\n",
    "#                 wn=0\n",
    "#         else:\n",
    "#             beadList.append(temp)\n",
    "#             if(i>=bNum):\n",
    "#                 break\n",
    "            \n",
    "#             pre=beads[i]\n",
    "#             temp=pre\n",
    "#             ppre=pre\n",
    "#     i+=1\n",
    "#     print(i)\n",
    "\n",
    "# max = 0\n",
    "# for i in range(len(beadList)-1):\n",
    "#     if(beadList[i][-1]==beadList[i+1][0]):\n",
    "#         temp1=len(beadList[i].replace(\"w\",\"\"))+len(beadList[i+1])\n",
    "#         temp2=len(beadList[i])+len(beadList[i+1].replace(\"w\",\"\"))\n",
    "    \n",
    "#         if(temp1>temp2):\n",
    "#             if(max<temp1):\n",
    "#                 max =temp1\n",
    "#         else:\n",
    "#             if(max<temp2):\n",
    "#                 max =temp2\n",
    "          \n",
    "#     elif(max<len(beadList[i])+len(beadList[i+1])):\n",
    "#             max =len(beadList[i])+len(beadList[i+1])\n",
    "# with open('beads.out','w') as fout:\n",
    "#     fout.write(\"{}\\n\".format(max))\n",
    "# beadList"
   ]
  }
 ],
 "metadata": {
  "kernelspec": {
   "display_name": "Python 3",
   "language": "python",
   "name": "python3"
  },
  "language_info": {
   "codemirror_mode": {
    "name": "ipython",
    "version": 3
   },
   "file_extension": ".py",
   "mimetype": "text/x-python",
   "name": "python",
   "nbconvert_exporter": "python",
   "pygments_lexer": "ipython3",
   "version": "3.6.3"
  }
 },
 "nbformat": 4,
 "nbformat_minor": 2
}
