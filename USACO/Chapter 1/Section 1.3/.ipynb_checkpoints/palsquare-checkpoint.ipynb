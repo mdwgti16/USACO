{
 "cells": [
  {
   "cell_type": "code",
   "execution_count": 2,
   "metadata": {},
   "outputs": [],
   "source": [
    "\"\"\"\n",
    "ID: xggc1\n",
    "LANG: PYTHON3\n",
    "PROG: palsquare\n",
    "\"\"\"\n",
    "nList=[n for n in range(10)]\n",
    "nList.extend([chr(n) for n in range(ord('A'),ord('A')+10)])\n",
    "\n",
    "def convert(num,base):\n",
    "    t=[]\n",
    "    while True:\n",
    "        if num>=base:\n",
    "            q,r=divmod(num,base)\n",
    "            num=q\n",
    "            t.append(nList[r])\n",
    "        else:\n",
    "            t.append(nList[num])\n",
    "            break\n",
    "    return ''.join(str(e) for e in t)[::-1]\n",
    "\n",
    "with open('palsquare.in','r') as f:\n",
    "    base = int(f.readline().strip())\n",
    "    \n",
    "pDict={}\n",
    "num=1\n",
    "\n",
    "while num<=300:\n",
    "    square = str(convert(num**2,base))\n",
    "    if square == square[::-1] :\n",
    "        pDict[convert(num,base)]=square\n",
    "    num+=1\n",
    "    \n",
    "with open('palsquare.out','w') as f:\n",
    "    for k, v in pDict.items():\n",
    "        f.write(f'{k} {v}\\n')"
   ]
  }
 ],
 "metadata": {
  "kernelspec": {
   "display_name": "Python 3",
   "language": "python",
   "name": "python3"
  },
  "language_info": {
   "codemirror_mode": {
    "name": "ipython",
    "version": 3
   },
   "file_extension": ".py",
   "mimetype": "text/x-python",
   "name": "python",
   "nbconvert_exporter": "python",
   "pygments_lexer": "ipython3",
   "version": "3.6.3"
  }
 },
 "nbformat": 4,
 "nbformat_minor": 2
}
