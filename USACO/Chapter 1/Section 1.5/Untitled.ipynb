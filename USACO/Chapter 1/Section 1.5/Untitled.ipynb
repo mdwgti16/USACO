{
 "cells": [
  {
   "cell_type": "code",
   "execution_count": 4,
   "metadata": {},
   "outputs": [
    {
     "ename": "ValueError",
     "evalue": "not enough values to unpack (expected 2, got 1)",
     "output_type": "error",
     "traceback": [
      "\u001b[0;31m---------------------------------------------------------------------------\u001b[0m",
      "\u001b[0;31mValueError\u001b[0m                                Traceback (most recent call last)",
      "\u001b[0;32m<ipython-input-4-4300615380b5>\u001b[0m in \u001b[0;36m<module>\u001b[0;34m()\u001b[0m\n\u001b[1;32m     11\u001b[0m \u001b[0mr\u001b[0m\u001b[0;34m=\u001b[0m\u001b[0;34m[\u001b[0m\u001b[0;34m]\u001b[0m\u001b[0;34m\u001b[0m\u001b[0m\n\u001b[1;32m     12\u001b[0m \u001b[0;32mfor\u001b[0m \u001b[0mi\u001b[0m\u001b[0;34m,\u001b[0m\u001b[0mj\u001b[0m \u001b[0;32min\u001b[0m \u001b[0menumerate\u001b[0m\u001b[0;34m(\u001b[0m\u001b[0me\u001b[0m\u001b[0;34m)\u001b[0m\u001b[0;34m:\u001b[0m\u001b[0;34m\u001b[0m\u001b[0m\n\u001b[0;32m---> 13\u001b[0;31m     \u001b[0mn\u001b[0m\u001b[0;34m,\u001b[0m\u001b[0mm\u001b[0m \u001b[0;34m=\u001b[0m \u001b[0mmap\u001b[0m\u001b[0;34m(\u001b[0m\u001b[0mint\u001b[0m\u001b[0;34m,\u001b[0m\u001b[0mj\u001b[0m\u001b[0;34m.\u001b[0m\u001b[0mstrip\u001b[0m\u001b[0;34m(\u001b[0m\u001b[0;34m)\u001b[0m\u001b[0;34m.\u001b[0m\u001b[0msplit\u001b[0m\u001b[0;34m(\u001b[0m\u001b[0;34m\" \"\u001b[0m\u001b[0;34m)\u001b[0m\u001b[0;34m)\u001b[0m\u001b[0;34m\u001b[0m\u001b[0m\n\u001b[0m\u001b[1;32m     14\u001b[0m     \u001b[0ms\u001b[0m\u001b[0;34m=\u001b[0m\u001b[0;34m\"\"\u001b[0m\u001b[0;34m\u001b[0m\u001b[0m\n\u001b[1;32m     15\u001b[0m     \u001b[0;32mfor\u001b[0m \u001b[0mk\u001b[0m \u001b[0;32min\u001b[0m \u001b[0mrange\u001b[0m\u001b[0;34m(\u001b[0m\u001b[0;36m5\u001b[0m\u001b[0;34m)\u001b[0m\u001b[0;34m:\u001b[0m\u001b[0;34m\u001b[0m\u001b[0m\n",
      "\u001b[0;31mValueError\u001b[0m: not enough values to unpack (expected 2, got 1)"
     ]
    }
   ],
   "source": [
    "\"\"\"\n",
    "ID: xggc1\n",
    "LANG: PYTHON3\n",
    "PROG: ariprog\n",
    "\"\"\"\n",
    "def getKey(s):\n",
    "    n1,n2=map(int,s.strip().split(\" \"))\n",
    "    return n2\n",
    "fin = open('ariprog.in','r')\n",
    "e = fin.readlines()\n",
    "r=[]\n",
    "for i,j in enumerate(e):\n",
    "    n,m = map(int,j.strip().split(\" \"))\n",
    "    s=\"\"\n",
    "    for k in range(5):\n",
    "        s+=f'{n+m*k} '\n",
    "    r.append(s)\n",
    "r\n",
    "#     print(n,m)\n",
    "# t={}\n",
    "# result=set()\n",
    "# cnt=0\n",
    "# for i in range(0,M**2*2+1):\n",
    "#     t[i] = 0\n",
    "# # for v in range(0,M+1,2):\n",
    "# for i in range(0,M+1):\n",
    "#     for j in range(0,M+1):\n",
    "#         if not t[i**2+j**2]:\n",
    "#             q,r=divmod(i**2+j**2,N-1)\n",
    "#     #                 print(i**2+j**2-2,r,q)\n",
    "#             cnt+=1\n",
    "#             if q>0:\n",
    "#                 result.add(f'{r} {q}')\n",
    "#             t[i**2+j**2]=1\n",
    "# result=list(result)\n",
    "# result.sort(key=getKey)\n",
    "\n",
    "# n1,n2=map(int,result[2].strip().split(\" \"))\n",
    "\n",
    "# for k,v in t.items():\n",
    "#     if v>0:\n",
    "#         print(k)\n",
    "# result,cnt\n",
    "\n",
    "# with open('ariprog.out','w') as fout:\n",
    "#     for e in result:\n",
    "#         fout.write(e+'\\n')"
   ]
  },
  {
   "cell_type": "code",
   "execution_count": 23,
   "metadata": {},
   "outputs": [
    {
     "name": "stdout",
     "output_type": "stream",
     "text": [
      "0\n",
      "1\n",
      "2\n",
      "4\n",
      "5\n",
      "[8, 9, 10, 13, 16, 17, 18, 20, 25, 26, 29, 32, 34, 36, 37, 40, 41, 45, 49, 50, 52, 53, 58, 61, 65, 72, 74, 85, 98]\n",
      "8\n",
      "[9, 10, 13, 16, 17, 18, 20, 25, 26, 29, 32, 34, 36, 37, 40, 41, 45, 49, 50, 52, 53, 58, 61, 65, 72, 74, 85, 98]\n",
      "9\n",
      "10\n",
      "[13, 16, 17, 18, 20, 25, 26, 29, 32, 34, 36, 37, 40, 41, 45, 49, 50, 52, 53, 58, 61, 65, 72, 74, 85, 98]\n",
      "13\n",
      "16\n",
      "[17, 18, 20, 25, 26, 29, 32, 34, 36, 37, 40, 41, 45, 49, 50, 52, 53, 58, 61, 65, 72, 74, 85, 98]\n",
      "17\n",
      "18\n",
      "20\n",
      "[25, 26, 29, 32, 34, 36, 37, 40, 41, 45, 49, 50, 52, 53, 58, 61, 65, 72, 74, 85, 98]\n",
      "25\n",
      "26\n",
      "29\n",
      "32\n",
      "[34, 36, 37, 40, 41, 45, 49, 50, 52, 53, 58, 61, 65, 72, 74, 85, 98]\n",
      "36\n",
      "37\n",
      "40\n",
      "41\n",
      "[34, 45, 49, 50, 52, 53, 58, 61, 65, 72, 74, 85, 98]\n",
      "49\n",
      "50\n",
      "52\n",
      "53\n",
      "[34, 45, 58, 61, 65, 72, 74, 85, 98]\n"
     ]
    }
   ],
   "source": [
    "a = [ e**2 for e in range(250)]\n",
    "dif =[]\n",
    "for i in range(1,len(a)):\n",
    "     dif.append(a[i]-a[i-1])\n",
    "\n",
    "sList = set()\n",
    "for i in range(7+1):\n",
    "    for j in range(7+1):\n",
    "        sList.add(i**2+j**2)\n",
    "sList=list(sList)\n",
    "sList.sort()\n",
    "for i in range(8):\n",
    "    for k in range(8):\n",
    "        if i**2+k in sList:\n",
    "            del sList[sList.index(i**2+k)]\n",
    "    print(sList)\n",
    "\n",
    "# for i in range(8):\n",
    "#     if i**2+1 in sList:\n",
    "#         del sList[sList.index(i**2+1)]\n",
    "# print(sList)"
   ]
  },
  {
   "cell_type": "code",
   "execution_count": 29,
   "metadata": {},
   "outputs": [
    {
     "data": {
      "text/plain": [
       "False"
      ]
     },
     "execution_count": 29,
     "metadata": {},
     "output_type": "execute_result"
    }
   ],
   "source": [
    "a={}\n",
    "a[54]=1\n",
    "a[16523]=3\n",
    "a[1]=3\n",
    "3 in a"
   ]
  }
 ],
 "metadata": {
  "kernelspec": {
   "display_name": "Python 3",
   "language": "python",
   "name": "python3"
  },
  "language_info": {
   "codemirror_mode": {
    "name": "ipython",
    "version": 3
   },
   "file_extension": ".py",
   "mimetype": "text/x-python",
   "name": "python",
   "nbconvert_exporter": "python",
   "pygments_lexer": "ipython3",
   "version": "3.6.3"
  }
 },
 "nbformat": 4,
 "nbformat_minor": 2
}
