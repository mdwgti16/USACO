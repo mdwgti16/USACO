{
 "cells": [
  {
   "cell_type": "code",
   "execution_count": 9,
   "metadata": {},
   "outputs": [
    {
     "name": "stdout",
     "output_type": "stream",
     "text": [
      "[5, 7, 11, 101, 131, 151, 181, 191, 313, 353, 373, 383]\n"
     ]
    }
   ],
   "source": [
    "\"\"\"\n",
    "ID: xggc1\n",
    "LANG: PYTHON3\n",
    "PROG: pprime\n",
    "\"\"\"\n",
    "def isPal(n):\n",
    "    if str(n)==str(n)[::-1]:\n",
    "        return True\n",
    "fin = open('pprime.in','r')\n",
    "a,b = map(int,fin.readline().strip().split(' '))\n",
    "result=[]\n",
    "ran=list(range(a,b+1))\n",
    "\n",
    "while ran:\n",
    "    n=ran[0]\n",
    "    if isPal(n):\n",
    "        d=2\n",
    "        while d<=n//2:\n",
    "            if n%d==0:\n",
    "                break\n",
    "            d+=1\n",
    "        if d>n//2:\n",
    "            result.append(n)\n",
    "    for i,e in enumerate(ran):\n",
    "        if e % n==0:\n",
    "            del ran[i]\n",
    "print(result)\n",
    "with open('pprime.out','w') as fout:\n",
    "    for e in result:\n",
    "        fout.write(f'{e}\\n')"
   ]
  },
  {
   "cell_type": "code",
   "execution_count": 14,
   "metadata": {},
   "outputs": [
    {
     "name": "stdout",
     "output_type": "stream",
     "text": [
      "[3, 5, 7, 11, 13, 17, 19, 23, 29, 31, 37, 41, 43, 47, 53, 59, 61, 67, 71, 73, 79, 83, 89, 97, 101, 103, 107, 109, 113, 127, 131, 137, 139, 149, 151, 157, 163, 167, 173, 179, 181, 191, 193, 197, 199, 211, 223, 227, 229, 233, 239, 241, 251, 257, 263, 269, 271, 277, 281, 283, 293, 307, 311, 313, 317, 331, 337, 347, 349, 353, 359, 367, 373, 379, 383, 389, 397, 401, 409, 419, 421, 431, 433, 439, 443, 449, 457, 461, 463, 467, 479, 487, 491, 499]\n",
      "2\n",
      "2\n",
      "4\n",
      "2\n",
      "4\n",
      "2\n",
      "4\n",
      "6\n",
      "2\n",
      "6\n",
      "4\n",
      "2\n",
      "4\n",
      "6\n",
      "6\n",
      "2\n",
      "6\n",
      "4\n",
      "2\n",
      "6\n",
      "4\n",
      "6\n",
      "8\n",
      "4\n",
      "2\n",
      "4\n",
      "2\n",
      "4\n",
      "14\n",
      "4\n",
      "6\n",
      "2\n",
      "10\n",
      "2\n",
      "6\n",
      "6\n",
      "4\n",
      "6\n",
      "6\n",
      "2\n",
      "10\n",
      "2\n",
      "4\n",
      "2\n",
      "12\n",
      "12\n",
      "4\n",
      "2\n",
      "4\n",
      "6\n",
      "2\n",
      "10\n",
      "6\n",
      "6\n",
      "6\n",
      "2\n",
      "6\n",
      "4\n",
      "2\n",
      "10\n",
      "14\n",
      "4\n",
      "2\n",
      "4\n",
      "14\n",
      "6\n",
      "10\n",
      "2\n",
      "4\n",
      "6\n",
      "8\n",
      "6\n",
      "6\n",
      "4\n",
      "6\n",
      "8\n",
      "4\n",
      "8\n",
      "10\n",
      "2\n",
      "10\n",
      "2\n",
      "6\n",
      "4\n",
      "6\n",
      "8\n",
      "4\n",
      "2\n",
      "4\n",
      "12\n",
      "8\n",
      "4\n",
      "8\n"
     ]
    }
   ],
   "source": [
    "\"\"\"\n",
    "ID: xggc1\n",
    "LANG: PYTHON3\n",
    "PROG: pprime\n",
    "\"\"\"\n",
    "def isPal(n):\n",
    "    if str(n)==str(n)[::-1]:\n",
    "        return True\n",
    "fin = open('pprime.in','r')\n",
    "a,b = map(int,fin.readline().strip().split(' '))\n",
    "pals=[]\n",
    "\n",
    "for n in range(2,b+1):\n",
    "    d=2\n",
    "    while True:\n",
    "        if n%d==0:\n",
    "            break\n",
    "        if n/d<d:\n",
    "            pals.append(n)\n",
    "            break\n",
    "        d+=1\n",
    "\n",
    "print(pals)\n",
    "for i,e in enumerate(pals):\n",
    "    if i>0:\n",
    "        print(pals[i]-pals[i-1])"
   ]
  },
  {
   "cell_type": "code",
   "execution_count": 144,
   "metadata": {},
   "outputs": [
    {
     "data": {
      "text/plain": [
       "(4999999, 9999993)"
      ]
     },
     "execution_count": 144,
     "metadata": {},
     "output_type": "execute_result"
    }
   ],
   "source": [
    "\"\"\"\n",
    "ID: xggc1\n",
    "LANG: PYTHON3\n",
    "PROG: pprime\n",
    "\"\"\"\n",
    "def isPal(n):\n",
    "    if str(n)==str(n)[::-1]:\n",
    "        return True\n",
    "fin = open('pprime.in','r')\n",
    "a,b = map(int,fin.readline().strip().split(' '))\n",
    "result=[]\n",
    "pri=[2]\n",
    "cnt=0\n",
    "for n in range(3,b+1,2):\n",
    "    cnt+=1\n",
    "    isPrime=True\n",
    "    for i, e in enumerate(pri):\n",
    "#         print(n,e,pri[i-1],n%e==0)\n",
    "        cnt+=1\n",
    "        if n%e==0 :\n",
    "            \n",
    "            isPrime=False\n",
    "            break\n",
    "        \n",
    "        if e>n//pri[i]:\n",
    "            break\n",
    "    if isPrime :\n",
    "        pri.append(n)\n",
    "cnt\n",
    "\n",
    "\n",
    "\n",
    "# with open('pprime.out','w') as fout:\n",
    "#     for e in result:\n",
    "#         fout.write(f'{e}\\n')"
   ]
  },
  {
   "cell_type": "code",
   "execution_count": 140,
   "metadata": {},
   "outputs": [
    {
     "data": {
      "text/plain": [
       "2.090909090909091"
      ]
     },
     "execution_count": 140,
     "metadata": {},
     "output_type": "execute_result"
    }
   ],
   "source": [
    "23/\n",
    "\n"
   ]
  }
 ],
 "metadata": {
  "kernelspec": {
   "display_name": "Python 3",
   "language": "python",
   "name": "python3"
  },
  "language_info": {
   "codemirror_mode": {
    "name": "ipython",
    "version": 3
   },
   "file_extension": ".py",
   "mimetype": "text/x-python",
   "name": "python",
   "nbconvert_exporter": "python",
   "pygments_lexer": "ipython3",
   "version": "3.6.3"
  }
 },
 "nbformat": 4,
 "nbformat_minor": 2
}
