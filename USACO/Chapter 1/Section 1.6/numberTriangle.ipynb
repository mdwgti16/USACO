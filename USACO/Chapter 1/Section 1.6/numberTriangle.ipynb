{
 "cells": [
  {
   "cell_type": "code",
   "execution_count": 10,
   "metadata": {},
   "outputs": [
    {
     "name": "stdout",
     "output_type": "stream",
     "text": [
      "                               46 \n",
      "                             30  82 \n",
      "                           90  56  17 \n",
      "                         95  15  48  26 \n",
      "                        4  58  71  79  92 \n",
      "                     60  12  21  63  47  19 \n",
      "                   41  90  85  14   9  52  71 \n",
      "                 79  16  81  51  95  93  34  10 \n",
      "               79  95  61  92  89  88  66  64  92 \n",
      "             63  66  64  39  51  27   0  95  12   8 \n",
      "           66  47  42  74  69  89  83  66  41  90  78 \n",
      "         65  79  90  33  53  29  85  22  33  37  36  68 \n",
      "       60  58  36  60  42  42  67  15  16  18  56  79   8 \n",
      "     59  61  97  55  81  75  40  90   1  37  35  43  67  12 \n",
      "   11  33  93  54  53  26  18  86  70  84  14  31  99  86  30 \n"
     ]
    }
   ],
   "source": [
    "fin = open('numtri.in','r')\n",
    "r= int(fin.readline())\n",
    "nums=[ e.strip().split(\" \") for e in fin.readlines()]\n",
    "for i in range(r):\n",
    "    for j in range(r-i):\n",
    "        print('  ',end='')\n",
    "    for k in range(i+1):\n",
    "        print(\"%3s\" %nums[i][k],'',end='')\n",
    "    print()"
   ]
  },
  {
   "cell_type": "code",
   "execution_count": 25,
   "metadata": {},
   "outputs": [
    {
     "name": "stdout",
     "output_type": "stream",
     "text": [
      "A 1 [1, 2, 3, 4, 5, 6, 7, 8, 9]\n",
      "[1, 2, 3, 4, 5, 6, 7, 8, 9]\n",
      "A 2 [1, 2, 3, 4, 5, 6, 7, 8, 9]\n",
      "B 2 2\n",
      "B 4 2\n",
      "B 6 2\n",
      "B 8 2\n",
      "[1, 3, 5, 7, 9]\n",
      "A 5 [1, 3, 5, 7, 9]\n",
      "B 5 5\n",
      "[1, 3, 7, 9]\n",
      "A 9 [1, 3, 7, 9]\n",
      "B 9 9\n",
      "[1, 3, 7]\n"
     ]
    },
    {
     "data": {
      "text/plain": [
       "[1, 3, 7]"
      ]
     },
     "execution_count": 25,
     "metadata": {},
     "output_type": "execute_result"
    }
   ],
   "source": [
    "a=[1,2,3,4,5,6,7,8,9]\n",
    "while a[]\n",
    "    print(\"A\",j,a)\n",
    "    if j!=1:\n",
    "        for i,e in enumerate(a):\n",
    "            if e %j==0:\n",
    "                print(\"B\",e,j)\n",
    "                del a[i]\n",
    "    print(a)\n",
    "a"
   ]
  }
 ],
 "metadata": {
  "kernelspec": {
   "display_name": "Python 3",
   "language": "python",
   "name": "python3"
  },
  "language_info": {
   "codemirror_mode": {
    "name": "ipython",
    "version": 3
   },
   "file_extension": ".py",
   "mimetype": "text/x-python",
   "name": "python",
   "nbconvert_exporter": "python",
   "pygments_lexer": "ipython3",
   "version": "3.6.3"
  }
 },
 "nbformat": 4,
 "nbformat_minor": 2
}
