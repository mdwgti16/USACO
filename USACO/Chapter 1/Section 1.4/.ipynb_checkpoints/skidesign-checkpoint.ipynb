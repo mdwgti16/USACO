{
 "cells": [
  {
   "cell_type": "code",
   "execution_count": 15,
   "metadata": {
    "scrolled": true
   },
   "outputs": [],
   "source": [
    "\"\"\"\n",
    "ID: xggc1\n",
    "LANG: PYTHON3\n",
    "PROG: skidesign\n",
    "\"\"\"\n",
    "fin = open('skidesign.in','r')\n",
    "N = int(fin.readline().strip())\n",
    "\n",
    "hills= [int(l.strip()) for l in fin.readlines()]\n",
    "hills.sort()\n",
    "\n",
    "c=(hills[0]+hills[-1])//2\n",
    "i=0\n",
    "costMin=9999999\n",
    "while i<=hills[-1]-17:    \n",
    "    costs=[]\n",
    "    for e in hills:\n",
    "        if e<i:\n",
    "            costs.append(i-e)\n",
    "        elif e>i+17:\n",
    "            costs.append(e-(i+17))\n",
    "    \n",
    "    total=0\n",
    "    for c in costs:\n",
    "        total+=c**2\n",
    "    if total<costMin:\n",
    "        costMin=total\n",
    "    i+=1\n",
    "\n",
    "with open('skidesign.out','w') as fout:\n",
    "    fout.write(f\"{costMin}\\n\")"
   ]
  }
 ],
 "metadata": {
  "kernelspec": {
   "display_name": "Python 3",
   "language": "python",
   "name": "python3"
  },
  "language_info": {
   "codemirror_mode": {
    "name": "ipython",
    "version": 3
   },
   "file_extension": ".py",
   "mimetype": "text/x-python",
   "name": "python",
   "nbconvert_exporter": "python",
   "pygments_lexer": "ipython3",
   "version": "3.6.3"
  }
 },
 "nbformat": 4,
 "nbformat_minor": 2
}
