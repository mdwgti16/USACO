{
 "cells": [
  {
   "cell_type": "code",
   "execution_count": 2,
   "metadata": {
    "scrolled": false
   },
   "outputs": [
    {
     "data": {
      "text/plain": [
       "6"
      ]
     },
     "execution_count": 2,
     "metadata": {},
     "output_type": "execute_result"
    }
   ],
   "source": [
    "\"\"\"\n",
    "ID: xggc1\n",
    "LANG: PYTHON3\n",
    "PROG: wormhole\n",
    "\"\"\"\n",
    "def getKey(s):\n",
    "    n1,n2=map(int,s.strip().split(\" \"))\n",
    "    return n2\n",
    "fin = open('wormhole.in','r')\n",
    "N = int(fin.readline().strip())\n",
    "\n",
    "wh= [l.strip() for l in fin.readlines()]\n",
    "wh.sort(key=getKey)\n",
    "\n",
    "isLast={}\n",
    "for i in range(1,N):\n",
    "    p1,p2=map(int,wh[i-1].strip().split(\" \"))\n",
    "    n1,n2=map(int,wh[i].strip().split(\" \"))\n",
    "    if p2 != n2:\n",
    "        isLast[wh[i-1]]=1\n",
    "    else:\n",
    "        isLast[wh[i-1]]=0\n",
    "else:\n",
    "    isLast[wh[-1]]=1\n",
    "        \n",
    "# print(wh,isLast)\n",
    "cnt=0\n",
    "\n",
    "def isTrapped(c,i,p,pr):\n",
    "    if c>N:\n",
    "        return True\n",
    "    if wh[i] in p:\n",
    "        i = wh.index(p[wh[i]])\n",
    "    else:\n",
    "        i = wh.index(pr[wh[i]])\n",
    "    if isLast[wh[i]]:\n",
    "        return False\n",
    "    return isTrapped(c+1,i+1,p,pr)\n",
    "\n",
    "def getPair(i,c,p):\n",
    "    global cnt\n",
    "    if c==N//2:\n",
    "        for k in range(N):\n",
    "            pr={v: k for k, v in p.items()}\n",
    "            if isTrapped(0,k,p,pr):\n",
    "                cnt+=1\n",
    "                break\n",
    "        return\n",
    "    for j in range(i+1,N):\n",
    "        isContain=False\n",
    "        for e in p.items():\n",
    "            if wh[i] in e or wh[j] in e:\n",
    "                isContain =True\n",
    "                break\n",
    "        if not isContain:\n",
    "            p[wh[i]]=wh[j]\n",
    "            getPair(getIndex(p),c+1,p)\n",
    "        \n",
    "            if len(p)>0:\n",
    "                del p[wh[i]]\n",
    "def getIndex(p):\n",
    "    for i in range(N):\n",
    "        for e in p.items():\n",
    "            if wh[i] in e:\n",
    "                break\n",
    "        else:\n",
    "            return i\n",
    "\n",
    "p={}\n",
    "getPair(0,0,p)\n",
    "\n",
    "with open('wormhole.out','w') as fout:\n",
    "    fout.write(f\"{cnt}\\n\")"
   ]
  }
 ],
 "metadata": {
  "kernelspec": {
   "display_name": "Python 3",
   "language": "python",
   "name": "python3"
  },
  "language_info": {
   "codemirror_mode": {
    "name": "ipython",
    "version": 3
   },
   "file_extension": ".py",
   "mimetype": "text/x-python",
   "name": "python",
   "nbconvert_exporter": "python",
   "pygments_lexer": "ipython3",
   "version": "3.6.3"
  }
 },
 "nbformat": 4,
 "nbformat_minor": 2
}
