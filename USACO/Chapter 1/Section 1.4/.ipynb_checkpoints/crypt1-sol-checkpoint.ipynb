{
 "cells": [
  {
   "cell_type": "code",
   "execution_count": 12,
   "metadata": {
    "scrolled": true
   },
   "outputs": [],
   "source": [
    "\"\"\"\n",
    "ID: xggc1\n",
    "LANG: PYTHON3\n",
    "PROG: crypt1\n",
    "\"\"\"\n",
    "fin = open('crypt1.in','r')\n",
    "n = int(fin.readline().strip())\n",
    "nList=[0 for i in range(10)]\n",
    "for e in fin.readline().strip().split(\" \"):\n",
    "    nList[int(e)]=1\n",
    "\n",
    "def isMember(num,c):\n",
    "    if num==0:\n",
    "        return False\n",
    "    \n",
    "    while num:\n",
    "        if not nList[num%10]:\n",
    "            return False\n",
    "        num=int(num/10)\n",
    "        c-=1\n",
    "    if c==0:\n",
    "        return True\n",
    "    else:\n",
    "        return False\n",
    "\n",
    "def isSolution(n,m):\n",
    "    if not isMember(n,3) or not isMember(m,2) or not isMember(n*m,4):\n",
    "        return False\n",
    "    while m:\n",
    "        if not isMember(n*(m%10),3):\n",
    "            return False\n",
    "        m=int(m/10)\n",
    "    return True\n",
    "\n",
    "cnt=0\n",
    "for i in range(100,1000):\n",
    "    for j in range(10,100):\n",
    "        if isSolution(i,j):\n",
    "            cnt+=1\n",
    "                 \n",
    "with open('crypt1.out','w') as fout:\n",
    "    fout.write(f\"{cnt}\\n\")"
   ]
  }
 ],
 "metadata": {
  "kernelspec": {
   "display_name": "Python 3",
   "language": "python",
   "name": "python3"
  },
  "language_info": {
   "codemirror_mode": {
    "name": "ipython",
    "version": 3
   },
   "file_extension": ".py",
   "mimetype": "text/x-python",
   "name": "python",
   "nbconvert_exporter": "python",
   "pygments_lexer": "ipython3",
   "version": "3.6.3"
  }
 },
 "nbformat": 4,
 "nbformat_minor": 2
}
