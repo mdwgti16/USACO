{
 "cells": [
  {
   "cell_type": "code",
   "execution_count": 121,
   "metadata": {},
   "outputs": [],
   "source": [
    "\"\"\"\n",
    "ID: xggc1\n",
    "LANG: PYTHON3\n",
    "PROG: ride \n",
    "\"\"\"\n",
    "def getNumber(str):\n",
    "    str = str.encode()\n",
    "    result = 1\n",
    "    for c in str:\n",
    "        result *= c-64\n",
    "    return result%47\n",
    "\n",
    "fin = open ('ride.in', 'r')\n",
    "fout = open ('ride.out', 'w')\n",
    "\n",
    "cometName = fin.readline().strip()\n",
    "groupName = fin.readline().strip()\n",
    "\n",
    "cometNumber = getNumber(cometName)\n",
    "groupNumber = getNumber(groupName)\n",
    "\n",
    "if(cometNumber == groupNumber):\n",
    "    fout.write (\"GO\\n\")    \n",
    "else:\n",
    "    fout.write (\"STAY\\n\")    \n",
    "fout.close()\n",
    "\n"
   ]
  }
 ],
 "metadata": {
  "kernelspec": {
   "display_name": "Python 3",
   "language": "python",
   "name": "python3"
  },
  "language_info": {
   "codemirror_mode": {
    "name": "ipython",
    "version": 3
   },
   "file_extension": ".py",
   "mimetype": "text/x-python",
   "name": "python",
   "nbconvert_exporter": "python",
   "pygments_lexer": "ipython3",
   "version": "3.6.3"
  }
 },
 "nbformat": 4,
 "nbformat_minor": 2
}
