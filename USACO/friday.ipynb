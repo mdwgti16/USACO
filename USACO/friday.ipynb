{
 "cells": [
  {
   "cell_type": "code",
   "execution_count": 59,
   "metadata": {},
   "outputs": [],
   "source": [
    "\"\"\"\n",
    "ID: xggc1\n",
    "LANG: PYTHON3\n",
    "PROG: friday\n",
    "\"\"\"\n",
    "fin = open('friday.in','r')\n",
    "N = int(fin.readline())\n",
    "dayOfWeeks = {i : 0 for i in range(7)}\n",
    "months = [31,28,31,30,31,30,31,31,30,31,30,31]\n",
    "day = 0;\n",
    "for y in range(1900,1900+N):\n",
    "    for m in months:\n",
    "        dayOfWeeks[(day+13+1)%7] += 1\n",
    "        if(m==28):\n",
    "            if(y%400==0 or (y%100!=0 and y%4==0)):\n",
    "                day += 29\n",
    "                continue\n",
    "        day += m\n",
    "with open('friday.out','w') as fout:\n",
    "    for day in range(6):\n",
    "        fout.write(\"{} \".format(dayOfWeeks[day]))\n",
    "    fout.write(\"{}\\n\".format(dayOfWeeks[6]))\n"
   ]
  }
 ],
 "metadata": {
  "kernelspec": {
   "display_name": "Python 3",
   "language": "python",
   "name": "python3"
  },
  "language_info": {
   "codemirror_mode": {
    "name": "ipython",
    "version": 3
   },
   "file_extension": ".py",
   "mimetype": "text/x-python",
   "name": "python",
   "nbconvert_exporter": "python",
   "pygments_lexer": "ipython3",
   "version": "3.6.3"
  }
 },
 "nbformat": 4,
 "nbformat_minor": 2
}
