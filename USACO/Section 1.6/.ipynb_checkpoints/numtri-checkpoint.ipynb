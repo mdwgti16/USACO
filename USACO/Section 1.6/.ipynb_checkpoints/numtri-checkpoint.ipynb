{
 "cells": [
  {
   "cell_type": "code",
   "execution_count": 2,
   "metadata": {},
   "outputs": [],
   "source": [
    "\"\"\"\n",
    "ID: xggc1\n",
    "LANG: PYTHON3\n",
    "PROG: numtri\n",
    "\"\"\"\n",
    "def getKey(s):\n",
    "    n1,n2=map(int,s.strip().split(\" \"))\n",
    "    return n2\n",
    "fin = open('numtri.in','r')\n",
    "n = int(fin.readline())\n",
    "nums=[ e.strip().split(\" \") for e in fin.readlines()]\n",
    "highest=0\n",
    "\n",
    "def getHighest(i,j,s):\n",
    "    global highest\n",
    "    if i==n:\n",
    "        if highest<s:\n",
    "            highest=s\n",
    "        return\n",
    "    getHighest(i+1,j,s+int(nums[i][j]))\n",
    "    getHighest(i+1,j+1,s+int(nums[i][j]))\n",
    "\n",
    "getHighest(0,0,0)\n",
    "highest\n",
    "\n",
    "with open('numtri.out','w') as fout:\n",
    "    fout.write(f'{highest}\\n')"
   ]
  }
 ],
 "metadata": {
  "kernelspec": {
   "display_name": "Python 3",
   "language": "python",
   "name": "python3"
  },
  "language_info": {
   "codemirror_mode": {
    "name": "ipython",
    "version": 3
   },
   "file_extension": ".py",
   "mimetype": "text/x-python",
   "name": "python",
   "nbconvert_exporter": "python",
   "pygments_lexer": "ipython3",
   "version": "3.6.3"
  }
 },
 "nbformat": 4,
 "nbformat_minor": 2
}
