{
 "cells": [
  {
   "cell_type": "code",
   "execution_count": 35,
   "metadata": {},
   "outputs": [
    {
     "data": {
      "text/plain": [
       "[[1], [3, 4]]"
      ]
     },
     "execution_count": 35,
     "metadata": {},
     "output_type": "execute_result"
    }
   ],
   "source": [
    "# submitted\n",
    "\"\"\"\n",
    "ID: xggc1\n",
    "LANG: PYTHON3\n",
    "PROG: numtri\n",
    "\"\"\"\n",
    "def getKey(s):\n",
    "    n1,n2=map(int,s.strip().split(\" \"))\n",
    "    return n2\n",
    "fin = open('numtri.in','r')\n",
    "n = int(fin.readline())\n",
    "nums=[ list(map(int,e.strip().split(\" \"))) for e in fin.readlines()]\n",
    "\n",
    "for i, line in enumerate(nums):\n",
    "    if i!=0:\n",
    "        for j,e in enumerate(line):\n",
    "            if j==0 :\n",
    "                nums[i][j]=nums[i][j]+nums[i-1][j]\n",
    "                continue\n",
    "            elif e==line[-1] :\n",
    "                nums[i][j]=nums[i][j]+nums[i-1][j-1]\n",
    "            if i!=n-1:\n",
    "                if nums[i][j]>=nums[i][j-1]:\n",
    "                    nums[i+1][j]+=nums[i][j]\n",
    "                else :\n",
    "                    nums[i+1][j]+=nums[i][j-1]\n",
    "\n",
    "with open('numtri.out','w') as fout:\n",
    "    fout.write(f'{max(nums[-1][:])}\\n')"
   ]
  },
  {
   "cell_type": "code",
   "execution_count": 168,
   "metadata": {},
   "outputs": [
    {
     "data": {
      "text/plain": [
       "(1066, 32767)"
      ]
     },
     "execution_count": 168,
     "metadata": {},
     "output_type": "execute_result"
    }
   ],
   "source": [
    "\"\"\"\n",
    "ID: xggc1\n",
    "LANG: PYTHON3\n",
    "PROG: numtri\n",
    "\"\"\"\n",
    "def getKey(s):\n",
    "    n1,n2=map(int,s.strip().split(\" \"))\n",
    "    return n2\n",
    "fin = open('numtri.in','r')\n",
    "n = int(fin.readline())\n",
    "nums=[ e.strip().split(\" \") for e in fin.readlines()]\n",
    "highest=0\n",
    "cnt=0\n",
    "def getHighest(i,j,s):\n",
    "    global cnt\n",
    "    global highest\n",
    "    cnt+=1\n",
    "    if i==n:\n",
    "        if highest<s:\n",
    "            highest=s\n",
    "        return\n",
    "    getHighest(i+1,j,s+int(nums[i][j]))\n",
    "    getHighest(i+1,j+1,s+int(nums[i][j]))\n",
    "\n",
    "getHighest(1,0,0)\n",
    "highest+int(nums[0][0]),cnt\n",
    "\n",
    "# with open('numtri.out','w') as fout:\n",
    "#     fout.write(f'{highest}\\n')"
   ]
  },
  {
   "cell_type": "code",
   "execution_count": 166,
   "metadata": {},
   "outputs": [
    {
     "data": {
      "text/plain": [
       "[0, 1, 0, 0, 4, 3, 1, 4, 1, 7, 9, 2, 12, 2, 12]"
      ]
     },
     "execution_count": 166,
     "metadata": {},
     "output_type": "execute_result"
    }
   ],
   "source": [
    "\"\"\"\n",
    "ID: xggc1\n",
    "LANG: PYTHON3\n",
    "PROG: numtri\n",
    "\"\"\"\n",
    "def getKey(s):\n",
    "    n1,n2=map(int,s.strip().split(\" \"))\n",
    "    return n2\n",
    "fin = open('numtri.in','r')\n",
    "r = int(fin.readline())\n",
    "nums=[ e.strip().split(\" \") for e in fin.readlines()]\n",
    "highest=0\n",
    "mi=[]\n",
    "for i in range(r):\n",
    "    mi.append(nums[i][:].index(max(nums[i][:])))\n",
    "# def getHighest(i,j,s):\n",
    "#     global cnt\n",
    "#     global highest\n",
    "#     cnt+=1\n",
    "#     if i==n:\n",
    "#         if highest<s:\n",
    "#             highest=s\n",
    "#         return\n",
    "#     if j==0:\n",
    "#         getHighest(i+1,j,s+int(nums[i][j]))\n",
    "#     elif j==r-1:\n",
    "#         getHighest(i+1,j+1,s+int(nums[i][j]))\n",
    "#     else:\n",
    "#         if len(nums[i][1:-1])<2:\n",
    "#             getHighest(i+1,j+1,s+int(nums[i][j]))\n",
    "#         else:\n",
    "#             nums[i][1:-1].index(max(nums[i][1:-1]))\n",
    "mi \n",
    "\n",
    "# getHighest(1,0,0)\n",
    "# highest+int(nums[0][0]),cnt\n",
    "\n",
    "# with open('numtri.out','w') as fout:\n",
    "#     fout.write(f'{highest}\\n')"
   ]
  },
  {
   "cell_type": "code",
   "execution_count": 151,
   "metadata": {},
   "outputs": [
    {
     "data": {
      "text/plain": [
       "1195"
      ]
     },
     "execution_count": 151,
     "metadata": {},
     "output_type": "execute_result"
    }
   ],
   "source": [
    "\"\"\"\n",
    "ID: xggc1\n",
    "LANG: PYTHON3\n",
    "PROG: numtri\n",
    "\"\"\"\n",
    "def getHighest(i):\n",
    "    m=0\n",
    "    mi=[]\n",
    "    for j in range(2):\n",
    "        sum=int(nums[1][j])\n",
    "        for k in range(2,r-1):\n",
    "            isMiddle=False\n",
    "            if r%2==0:\n",
    "                if i==r//2 or i-1==r//2:\n",
    "                    isMiddle=True\n",
    "            else:\n",
    "                if i==r//2:\n",
    "                    isMiddle=True\n",
    "                if isMiddle:\n",
    "                    if k<r//2:\n",
    "                        sum+=int(max(nums[k][0+j:k+j]))\n",
    "#                         mi.append(nums[k][0+j:k+j].index(max(nums[k][0+j:k+j])))\n",
    "#                         print(\"<<\",j,nums[k][0+j:k+j],nums[-1][i],i)\n",
    "                        \n",
    "                    else:\n",
    "                        s=0+j+k-(r//2)\n",
    "                        sum+=int(max(nums[k][s:s+r-k+j]))\n",
    "#                         mi.append(nums[k][s:s+r-k+j].index(max(nums[k][s:s+r-k+j])))\n",
    "#                         print(\">>\",j,nums[k][s:s+r-k+j],s)\n",
    "                else:\n",
    "                    if k<r-i:\n",
    "                        e=k+j\n",
    "                        if e>i+1:\n",
    "                            e=i+1\n",
    "                        sum+=int(max(nums[k][0+j:e]))\n",
    "#                         mi.append(nums[k][0+j:e].index(max(nums[k][0+j:e])))\n",
    "#                         print(\"EEEE\",j,nums[k][0+j:e],nums[-1][i],i,max(nums[k][0+j:e]))\n",
    "                    else:\n",
    "                        sum+=int(max(nums[k][i-(r-k)+1:i+1]))\n",
    "#                         mi.append(nums[k][i-(r-k)+1:i+1].index(max(nums[k][i-(r-k)+1:i+1])))\n",
    "#                         print(\"EEEE\",j,nums[k][i-(r-k)+1:i+1],max(nums[k][i-(r-k)+1:i+1]))\n",
    "\n",
    "        sum+=int(nums[0][0])+int(nums[-1][i])\n",
    "        if m<sum:\n",
    "            m=sum\n",
    "            \n",
    "    return m\n",
    "\n",
    "fin = open('numtri.in','r')\n",
    "r= int(fin.readline())\n",
    "nums=[ e.strip().split(\" \") for e in fin.readlines()]\n",
    "highest=0\n",
    "\n",
    "for i in range(r):\n",
    "    sum=0\n",
    "    if i == 0 :\n",
    "        for j in range(r):        \n",
    "            sum+=int(nums[j][i])\n",
    "    elif i == r-1:\n",
    "        for j in range(r):            \n",
    "            sum+=int(nums[j][j])\n",
    "    elif i==1:\n",
    "        for j in range(2):\n",
    "            sum=int(nums[0][0])+int(nums[1][j])+int(nums[-1][i])\n",
    "            for k in range(2,r-1):\n",
    "                sum+=int(max(nums[k][j:2]))\n",
    "            if highest<sum:\n",
    "                highest=sum\n",
    "        continue\n",
    "    elif i==r-2:\n",
    "        for j in range(2):\n",
    "            sum=int(nums[0][0])+int(nums[1][j])+int(nums[-1][i])\n",
    "            for k in range(2,r-1):\n",
    "                sum+=int(max(nums[k][k-1:k+j]))\n",
    "            if highest<sum:\n",
    "                highest=sum\n",
    "        continue    \n",
    "    else:\n",
    "        sum=getHighest(i)\n",
    "    if highest<sum:\n",
    "        highest=sum\n",
    "highest\n",
    "# with open('numtri.out','w') as fout:\n",
    "#     fout.write(f'{highest}\\n')"
   ]
  }
 ],
 "metadata": {
  "kernelspec": {
   "display_name": "Python 3",
   "language": "python",
   "name": "python3"
  },
  "language_info": {
   "codemirror_mode": {
    "name": "ipython",
    "version": 3
   },
   "file_extension": ".py",
   "mimetype": "text/x-python",
   "name": "python",
   "nbconvert_exporter": "python",
   "pygments_lexer": "ipython3",
   "version": "3.6.3"
  }
 },
 "nbformat": 4,
 "nbformat_minor": 2
}
