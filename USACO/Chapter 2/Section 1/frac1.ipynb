{
 "cells": [
  {
   "cell_type": "code",
   "execution_count": 86,
   "metadata": {},
   "outputs": [],
   "source": [
    "# ANALYSIS\n",
    "\"\"\"\n",
    "ID: xggc1\n",
    "LANG: PYTHON3\n",
    "PROG: frac1\n",
    "\"\"\"\n",
    "def getKey(s):\n",
    "    num,den=map(int,s.strip().split(\"/\"))\n",
    "    return num/den\n",
    "\n",
    "fin = open('frac1.in','r')\n",
    "N = int(fin.readline().strip())\n",
    "def getGcd(a,b):\n",
    "    q,r=divmod(a,b)\n",
    "    if r == 0:\n",
    "        if b==1:\n",
    "            return 1\n",
    "        else:\n",
    "            return 0\n",
    "    else :\n",
    "        return getGcd(b,r)\n",
    "fracList=[]\n",
    "fracList.append(\"0/1\")\n",
    "for den in range(1,N+1):\n",
    "    for num in range(1,den+1):\n",
    "        if getGcd(den,num):\n",
    "            frac=f\"{num}/{den}\"\n",
    "            if not frac in fracList:\n",
    "                fracList.append(frac)\n",
    "                \n",
    "fracList.sort(key=getKey)\n",
    "\n",
    "with open('frac1.out','w') as fout:\n",
    "    for e in fracList:\n",
    "        fout.write(e+'\\n')"
   ]
  },
  {
   "cell_type": "code",
   "execution_count": 80,
   "metadata": {},
   "outputs": [],
   "source": [
    "\"\"\"\n",
    "ID: xggc1\n",
    "LANG: PYTHON3\n",
    "PROG: frac1\n",
    "\"\"\"\n",
    "def getKey(s):\n",
    "    num,den=map(int,s.strip().split(\"/\"))\n",
    "    return num/den\n",
    "\n",
    "fin = open('frac1.in','r')\n",
    "N = int(fin.readline().strip())\n",
    "def getGcd(a,b):\n",
    "    q,r=divmod(a,b)\n",
    "    if r == 0:\n",
    "        return b\n",
    "    else :\n",
    "        return getGcd(b,r)\n",
    "fracList=[]\n",
    "fracList.append(\"0/1\")\n",
    "for den in range(1,N+1):\n",
    "    for num in range(1,den+1):\n",
    "        if den>=num:\n",
    "            gcd=getGcd(den,num)\n",
    "            frac=f\"{int(num/gcd)}/{int(den/gcd)}\"\n",
    "            if not frac in fracList:\n",
    "                fracList.append(frac)\n",
    "                \n",
    "fracList.sort(key=getKey)\n",
    "\n",
    "with open('frac1.out','w') as fout:\n",
    "    for e in fracList:\n",
    "        fout.write(e+'\\n')"
   ]
  }
 ],
 "metadata": {
  "kernelspec": {
   "display_name": "Python 3",
   "language": "python",
   "name": "python3"
  },
  "language_info": {
   "codemirror_mode": {
    "name": "ipython",
    "version": 3
   },
   "file_extension": ".py",
   "mimetype": "text/x-python",
   "name": "python",
   "nbconvert_exporter": "python",
   "pygments_lexer": "ipython3",
   "version": "3.6.3"
  }
 },
 "nbformat": 4,
 "nbformat_minor": 2
}
