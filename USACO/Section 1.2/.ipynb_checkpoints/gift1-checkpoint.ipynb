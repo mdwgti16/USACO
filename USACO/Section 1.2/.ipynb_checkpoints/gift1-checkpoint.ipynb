{
 "cells": [
  {
   "cell_type": "code",
   "execution_count": 4,
   "metadata": {},
   "outputs": [
    {
     "data": {
      "text/plain": [
       "('dave 302\\n', 'laura 66\\n', 'owen -359\\n', 'vick 141\\n', 'amr -150\\n')"
      ]
     },
     "execution_count": 4,
     "metadata": {},
     "output_type": "execute_result"
    }
   ],
   "source": [
    "\"\"\"\n",
    "ID: xggc1\n",
    "LANG: PYTHON3\n",
    "PROG: gift1\n",
    "\"\"\"\n",
    "fin = open('gift1.in','r')\n",
    "np = int(fin.readline().strip())\n",
    "dictOfMoney = { fin.readline().strip() : 0 for i in range(np) }\n",
    "\n",
    "while(True):\n",
    "    giver = fin.readline().strip()\n",
    "    if(giver==\"\"):\n",
    "        break\n",
    "    amount, divided = map(int, fin.readline().strip().split())\n",
    "    receivers = [fin.readline().strip() for i in range(divided)]\n",
    "    \n",
    "    try:\n",
    "        quotient, remainder = divmod(amount,divided)\n",
    "    except:\n",
    "        quotient = remainder = 0\n",
    "        \n",
    "    for receiver in receivers:\n",
    "        dictOfMoney[receiver] += quotient\n",
    "    dictOfMoney[giver] += -amount + remainder\n",
    "\n",
    "with open('gift1.out','w') as fout:\n",
    "    for name, money in dictOfMoney.items():\n",
    "        fout.write(f\"{name} {money}\\n\")\n",
    "\n",
    "fin = open('gift1.out','r')\n",
    "a = fin.readline()        \n",
    "a\n",
    "b = fin.readline()        \n",
    "a\n",
    "c = fin.readline()        \n",
    "a\n",
    "d = fin.readline()        \n",
    "a\n",
    "e = fin.readline()        \n",
    "a,b,c,d,e\n",
    "# with open('ride.in', 'r') as fin:\n",
    "#     comet1 = fin.readline().strip()\n",
    "#     comet2 = fin.readline().strip()\n",
    "# prod1, prod2 = 1, 1\n",
    "# for c in comet1: prod1 *= ord(c) - ord('A') + 1\n",
    "# for c in comet2: prod2 *= ord(c) - ord('A') + 1\n",
    "# with open('ride.out', 'w') as fout:\n",
    "#     if prod1 % 47 == prod2 % 47: fout.write('GO\\n')\n",
    "#     else: fout.write('STAY\\n')"
   ]
  }
 ],
 "metadata": {
  "kernelspec": {
   "display_name": "Python 3",
   "language": "python",
   "name": "python3"
  },
  "language_info": {
   "codemirror_mode": {
    "name": "ipython",
    "version": 3
   },
   "file_extension": ".py",
   "mimetype": "text/x-python",
   "name": "python",
   "nbconvert_exporter": "python",
   "pygments_lexer": "ipython3",
   "version": "3.6.3"
  }
 },
 "nbformat": 4,
 "nbformat_minor": 2
}
