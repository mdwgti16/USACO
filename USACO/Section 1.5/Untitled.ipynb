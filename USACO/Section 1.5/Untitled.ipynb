{
 "cells": [
  {
   "cell_type": "code",
   "execution_count": 14,
   "metadata": {},
   "outputs": [
    {
     "data": {
      "text/plain": [
       "['1 5 9 13 17 ',\n",
       " '37 41 45 49 53 ',\n",
       " '2 10 18 26 34 ',\n",
       " '29 37 45 53 61 ',\n",
       " '1 13 25 37 49 ',\n",
       " '5 17 29 41 53 ',\n",
       " '13 25 37 49 61 ',\n",
       " '17 29 41 53 65 ',\n",
       " '5 25 45 65 85 ',\n",
       " '2 26 50 74 98 ']"
      ]
     },
     "execution_count": 14,
     "metadata": {},
     "output_type": "execute_result"
    }
   ],
   "source": [
    "\"\"\"\n",
    "ID: xggc1\n",
    "LANG: PYTHON3\n",
    "PROG: ariprog\n",
    "\"\"\"\n",
    "def getKey(s):\n",
    "    n1,n2=map(int,s.strip().split(\" \"))\n",
    "    return n2\n",
    "fin = open('ariprog.in','r')\n",
    "e = fin.readlines()\n",
    "r=[]\n",
    "for i,j in enumerate(e):\n",
    "    n,m = map(int,j.strip().split(\" \"))\n",
    "    s=\"\"\n",
    "    for k in range(5):\n",
    "        s+=f'{n+m*k} '\n",
    "    r.append(s)\n",
    "r\n",
    "#     print(n,m)\n",
    "# t={}\n",
    "# result=set()\n",
    "# cnt=0\n",
    "# for i in range(0,M**2*2+1):\n",
    "#     t[i] = 0\n",
    "# # for v in range(0,M+1,2):\n",
    "# for i in range(0,M+1):\n",
    "#     for j in range(0,M+1):\n",
    "#         if not t[i**2+j**2]:\n",
    "#             q,r=divmod(i**2+j**2,N-1)\n",
    "#     #                 print(i**2+j**2-2,r,q)\n",
    "#             cnt+=1\n",
    "#             if q>0:\n",
    "#                 result.add(f'{r} {q}')\n",
    "#             t[i**2+j**2]=1\n",
    "# result=list(result)\n",
    "# result.sort(key=getKey)\n",
    "\n",
    "# n1,n2=map(int,result[2].strip().split(\" \"))\n",
    "\n",
    "# for k,v in t.items():\n",
    "#     if v>0:\n",
    "#         print(k)\n",
    "# result,cnt\n",
    "\n",
    "# with open('ariprog.out','w') as fout:\n",
    "#     for e in result:\n",
    "#         fout.write(e+'\\n')"
   ]
  },
  {
   "cell_type": "code",
   "execution_count": 7,
   "metadata": {},
   "outputs": [
    {
     "data": {
      "text/plain": [
       "[2, 3, 4]"
      ]
     },
     "execution_count": 7,
     "metadata": {},
     "output_type": "execute_result"
    }
   ],
   "source": [
    "n=3\n",
    "list(range(n-1,5))"
   ]
  }
 ],
 "metadata": {
  "kernelspec": {
   "display_name": "Python 3",
   "language": "python",
   "name": "python3"
  },
  "language_info": {
   "codemirror_mode": {
    "name": "ipython",
    "version": 3
   },
   "file_extension": ".py",
   "mimetype": "text/x-python",
   "name": "python",
   "nbconvert_exporter": "python",
   "pygments_lexer": "ipython3",
   "version": "3.6.3"
  }
 },
 "nbformat": 4,
 "nbformat_minor": 2
}
