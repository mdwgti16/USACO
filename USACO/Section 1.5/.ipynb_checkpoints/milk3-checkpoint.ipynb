{
 "cells": [
  {
   "cell_type": "code",
   "execution_count": 8,
   "metadata": {
    "scrolled": false
   },
   "outputs": [
    {
     "data": {
      "text/plain": [
       "[6, 7, 8, 9, 10, 11, 12, 13, 14, 15, 16, 17, 18]"
      ]
     },
     "execution_count": 8,
     "metadata": {},
     "output_type": "execute_result"
    }
   ],
   "source": [
    "\"\"\"\n",
    "ID: xggc1\n",
    "LANG: PYTHON3\n",
    "PROG: milk3\n",
    "\"\"\"\n",
    "def getKey(s):\n",
    "    n1,n2=map(int,s.strip().split(\" \"))\n",
    "    return n2\n",
    "fin = open('milk3.in','r')\n",
    "a,b,c = map(int,fin.readline().split(\" \"))\n",
    "result=set()\n",
    "cList=[a,b,c]\n",
    "mList=[0,0,c]\n",
    "result=set()\n",
    "temp=[]\n",
    "def bucketC(mList):\n",
    "    for i,p in enumerate(mList):\n",
    "        for j,q in enumerate(mList):\n",
    "            if i!=j:\n",
    "                t=mList[:]\n",
    "                if cList[j]-q>=p:\n",
    "                    t[j]=q+p\n",
    "                    t[i]=0\n",
    "                else:\n",
    "                    t[i]=p-(cList[j]-q)\n",
    "                    t[j]=cList[j]\n",
    "                if not t[-1] in result and not t in temp:\n",
    "                    if t[0]==0:\n",
    "                        result.add(t[-1])\n",
    "                    temp.append(t)\n",
    "                    bucketC(t)\n",
    "bucketC(mList)                \n",
    "result=list(result)                    \n",
    "result.sort()\n",
    "            \n",
    "with open('milk3.out','w') as fout:\n",
    "    out=''\n",
    "    for e in result:\n",
    "        out+=f'{e} '\n",
    "    fout.write(out.strip()+\"\\n\")"
   ]
  }
 ],
 "metadata": {
  "kernelspec": {
   "display_name": "Python 3",
   "language": "python",
   "name": "python3"
  },
  "language_info": {
   "codemirror_mode": {
    "name": "ipython",
    "version": 3
   },
   "file_extension": ".py",
   "mimetype": "text/x-python",
   "name": "python",
   "nbconvert_exporter": "python",
   "pygments_lexer": "ipython3",
   "version": "3.6.3"
  }
 },
 "nbformat": 4,
 "nbformat_minor": 2
}
