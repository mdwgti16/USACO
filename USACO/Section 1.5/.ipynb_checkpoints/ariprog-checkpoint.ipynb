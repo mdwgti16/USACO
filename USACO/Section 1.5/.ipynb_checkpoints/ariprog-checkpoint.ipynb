{
 "cells": [
  {
   "cell_type": "code",
   "execution_count": 87,
   "metadata": {
    "scrolled": false
   },
   "outputs": [
    {
     "name": "stdout",
     "output_type": "stream",
     "text": [
      "time : 5.6743621826171875e-05\n"
     ]
    }
   ],
   "source": [
    "\"\"\"\n",
    "ID: xggc1\n",
    "LANG: PYTHON3\n",
    "PROG: ariprog\n",
    "\"\"\"\n",
    "import time\n",
    "def getKey(s):\n",
    "    n1,n2=map(int,s.strip().split(\" \"))\n",
    "    return n2, n1\n",
    "\n",
    "\n",
    "fin = open('ariprog.in','r')\n",
    "N,M = map(int,fin.readlines())\n",
    "\n",
    "# ['1 5 9 13 17 ',\n",
    "#  '37 41 45 49 53 ',\n",
    "#  '2 10 18 26 34 ',\n",
    "#  '29 37 45 53 61 ',\n",
    "#  '1 13 25 37 49 ',\n",
    "#  '5 17 29 41 53 ',\n",
    "#  '13 25 37 49 61 ',\n",
    "#  '17 29 41 53 65 ',\n",
    "#  '5 25 45 65 85 ',\n",
    "#  '2 26 50 74 98 ']\n",
    "\n",
    "sList=set()\n",
    "result=set()\n",
    "cnt=0\n",
    "\n",
    "# for v in range(0,M+1,2):\n",
    "for i in range(0,M+1):\n",
    "    for j in range(0,M+1):\n",
    "        if not i**2+j**2 in sList:\n",
    "            q,r=divmod(i**2+j**2,N-1)\n",
    "#             if q>0:\n",
    "#                 result.add(f'{r} {q}')\n",
    "            sList.add(i**2+j**2)\n",
    "#             print(i,j,i**2+j**2)\n",
    "\n",
    "\n",
    "t = []\n",
    "start = time.time() \n",
    "for e in sList:\n",
    "    for s in sList:\n",
    "        cnt+=1\n",
    "print(\"time :\", time.time() - start)  # 현재시각 - 시작시간 = 실행 시간\n",
    "start = time.time() \n",
    "for e in sList:\n",
    "    for s in sList:\n",
    "        if e != 0 and s != 0:\n",
    "            if e>=N-1:\n",
    "                if s<e:\n",
    "                    q,r=divmod(e-s,N-1)\n",
    "                    if r==0 :\n",
    "                        t.append(f'{s} {q}')\n",
    "        else:\n",
    "            if e%(N-1)==0 and e!=0:\n",
    "                t.append(f'{s} {e//(N-1)}')\n",
    "print(\"time :\", time.time() - start)  # 현재시각 - 시작시간 = 실행 시간                    \n",
    "start = time.time() \n",
    "for e in t:\n",
    "    s,d = map(int,e.split(' '))\n",
    "    for i in range(N):\n",
    "        temp=s+d*i\n",
    "        if not temp in sList:\n",
    "            break\n",
    "    else:\n",
    "        result.add(e)\n",
    "print(\"time :\", time.time() - start)  # 현재시각 - 시작시간 = 실행 시간        \n",
    "result=list(result)\n",
    "result.sort(key=getKey)\n",
    "\n",
    "if len(result)==0:\n",
    "    result.append('NONE')\n",
    "\n",
    "with open('ariprog.out','w') as fout:\n",
    "    for e in result:\n",
    "        fout.write(e+'\\n')"
   ]
  },
  {
   "cell_type": "code",
   "execution_count": 24,
   "metadata": {},
   "outputs": [
    {
     "data": {
      "text/plain": [
       "['1217 84',\n",
       " '2434 168',\n",
       " '4868 336',\n",
       " '6085 420',\n",
       " '9736 672',\n",
       " '10953 756',\n",
       " '12170 840',\n",
       " '12953 924',\n",
       " '15821 1092']"
      ]
     },
     "execution_count": 24,
     "metadata": {},
     "output_type": "execute_result"
    }
   ],
   "source": [
    "for e in t:\n",
    "    s,d = map(int,e.split(' '))\n",
    "    for i in range(N):\n",
    "        temp=s+d*i\n",
    "        if not temp in sList:\n",
    "            break\n",
    "    else:\n",
    "        result.add(e)\n",
    "result=list(result)\n",
    "result.sort(key=getKey)\n",
    "\n",
    "if len(result)==0:\n",
    "    result.append('NONE')\n",
    "result"
   ]
  }
 ],
 "metadata": {
  "kernelspec": {
   "display_name": "Python 3",
   "language": "python",
   "name": "python3"
  },
  "language_info": {
   "codemirror_mode": {
    "name": "ipython",
    "version": 3
   },
   "file_extension": ".py",
   "mimetype": "text/x-python",
   "name": "python",
   "nbconvert_exporter": "python",
   "pygments_lexer": "ipython3",
   "version": "3.6.3"
  }
 },
 "nbformat": 4,
 "nbformat_minor": 2
}
