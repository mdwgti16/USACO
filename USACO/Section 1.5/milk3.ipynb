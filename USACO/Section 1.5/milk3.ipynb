{
 "cells": [
  {
   "cell_type": "code",
   "execution_count": 3,
   "metadata": {
    "scrolled": false
   },
   "outputs": [
    {
     "name": "stdout",
     "output_type": "stream",
     "text": [
      "15 0 15\n",
      "0 5\n",
      "15 5 10\n",
      "5 5\n",
      "15 10 5\n",
      "10 5\n"
     ]
    },
    {
     "data": {
      "text/plain": [
       "(5, 11, 15, {4, 5, 6, 9, 10, 11, 14, 15})"
      ]
     },
     "execution_count": 3,
     "metadata": {},
     "output_type": "execute_result"
    }
   ],
   "source": [
    "\"\"\"\n",
    "ID: xggc1\n",
    "LANG: PYTHON3\n",
    "PROG: milk3\n",
    "\"\"\"\n",
    "def getKey(s):\n",
    "    n1,n2=map(int,s.strip().split(\" \"))\n",
    "    return n2\n",
    "fin = open('milk3.in','r')\n",
    "a,b,c = map(int,fin.readline().split(\" \"))\n",
    "result=set()\n",
    "\n",
    "if c>=a:\n",
    "    result.add(c-a)\n",
    "    \n",
    "if c>=b:\n",
    "    result.add(c-b)\n",
    "\n",
    "\n",
    "if b>=a:\n",
    "    n1,n2=b,a\n",
    "    if c<=a+b:\n",
    "        result.add(a)\n",
    "        result.add(b)\n",
    "        result.add(b-a)    \n",
    "    \n",
    "#     else:\n",
    "#         n1,n2=a,b\n",
    "n=0\n",
    "while n1>=n:\n",
    "    if n<c:\n",
    "        print(c,n,c-n)\n",
    "        result.add(c-n)\n",
    "        result.add(c-(n1-n))\n",
    "    \n",
    "        \n",
    "    else:\n",
    "        break\n",
    "    print(n,n2)\n",
    "    n+=n2\n",
    "    \n",
    "a,b,c,result\n",
    "0 11 4\n",
    "4 11 0\n",
    "0 4 11\n",
    "5 4 6\n",
    "0 9 6\n",
    "5 4 6\n",
    "\n",
    "5 4 6\n",
    "0 9 6\n",
    "# 4_5_6_7_8_9_10_11_12_13_14_15\n",
    "# 4 5 6     9 10 11       14 15\n",
    "# with open('milk3.out','w') as fout:\n",
    "#     out=''\n",
    "#     for e in result:\n",
    "#         out+=f'{e} '\n",
    "#     fout.write(out.strip()+\"\\n\")"
   ]
  }
 ],
 "metadata": {
  "kernelspec": {
   "display_name": "Python 3",
   "language": "python",
   "name": "python3"
  },
  "language_info": {
   "codemirror_mode": {
    "name": "ipython",
    "version": 3
   },
   "file_extension": ".py",
   "mimetype": "text/x-python",
   "name": "python",
   "nbconvert_exporter": "python",
   "pygments_lexer": "ipython3",
   "version": "3.6.3"
  }
 },
 "nbformat": 4,
 "nbformat_minor": 2
}
