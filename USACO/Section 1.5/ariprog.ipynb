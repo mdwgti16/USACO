{
 "cells": [
  {
   "cell_type": "code",
   "execution_count": 15,
   "metadata": {
    "scrolled": false
   },
   "outputs": [
    {
     "name": "stdout",
     "output_type": "stream",
     "text": [
      "0\n",
      "1\n",
      "2\n",
      "4\n",
      "5\n",
      "8\n",
      "9\n",
      "10\n",
      "13\n",
      "16\n",
      "17\n",
      "18\n",
      "20\n",
      "25\n",
      "26\n",
      "29\n",
      "32\n",
      "34\n",
      "36\n",
      "37\n",
      "40\n",
      "41\n",
      "45\n",
      "49\n",
      "50\n",
      "52\n",
      "53\n",
      "58\n",
      "61\n",
      "65\n",
      "72\n",
      "74\n",
      "85\n",
      "98\n"
     ]
    },
    {
     "data": {
      "text/plain": [
       "(['1 1',\n",
       "  '0 1',\n",
       "  '1 2',\n",
       "  '0 2',\n",
       "  '2 2',\n",
       "  '1 3',\n",
       "  '0 4',\n",
       "  '1 4',\n",
       "  '2 4',\n",
       "  '0 5',\n",
       "  '2 6',\n",
       "  '1 6',\n",
       "  '1 7',\n",
       "  '0 8',\n",
       "  '2 8',\n",
       "  '1 9',\n",
       "  '0 9',\n",
       "  '1 10',\n",
       "  '0 10',\n",
       "  '1 11',\n",
       "  '2 12',\n",
       "  '1 12',\n",
       "  '1 13',\n",
       "  '0 13',\n",
       "  '2 14',\n",
       "  '1 15',\n",
       "  '1 16',\n",
       "  '2 18',\n",
       "  '0 18',\n",
       "  '1 21',\n",
       "  '2 24'],\n",
       " 34)"
      ]
     },
     "execution_count": 15,
     "metadata": {},
     "output_type": "execute_result"
    }
   ],
   "source": [
    "\"\"\"\n",
    "ID: xggc1\n",
    "LANG: PYTHON3\n",
    "PROG: ariprog\n",
    "\"\"\"\n",
    "def getKey(s):\n",
    "    n1,n2=map(int,s.strip().split(\" \"))\n",
    "    return n2\n",
    "fin = open('ariprog.in','r')\n",
    "N,M = map(int,fin.readlines())\n",
    "\n",
    "t={}\n",
    "result=set()\n",
    "cnt=0\n",
    "for i in range(0,M**2*2+1):\n",
    "    t[i] = 0\n",
    "# for v in range(0,M+1,2):\n",
    "for i in range(0,M+1):\n",
    "    for j in range(0,M+1):\n",
    "        if not t[i**2+j**2]:\n",
    "            q,r=divmod(i**2+j**2,N-1)\n",
    "    #                 print(i**2+j**2-2,r,q)\n",
    "            cnt+=1\n",
    "            if q>0:\n",
    "                result.add(f'{r} {q}')\n",
    "            t[i**2+j**2]=1\n",
    "result=list(result)\n",
    "result.sort(key=getKey)\n",
    "\n",
    "n1,n2=map(int,result[2].strip().split(\" \"))\n",
    "\n",
    "for k,v in t.items():\n",
    "    if v>0:\n",
    "        print(k)\n",
    "result,cnt\n",
    "\n",
    "# with open('ariprog.out','w') as fout:\n",
    "#     for e in result:\n",
    "#         fout.write(e+'\\n')"
   ]
  }
 ],
 "metadata": {
  "kernelspec": {
   "display_name": "Python 3",
   "language": "python",
   "name": "python3"
  },
  "language_info": {
   "codemirror_mode": {
    "name": "ipython",
    "version": 3
   },
   "file_extension": ".py",
   "mimetype": "text/x-python",
   "name": "python",
   "nbconvert_exporter": "python",
   "pygments_lexer": "ipython3",
   "version": "3.6.3"
  }
 },
 "nbformat": 4,
 "nbformat_minor": 2
}
